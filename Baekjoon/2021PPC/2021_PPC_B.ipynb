{
  "nbformat": 4,
  "nbformat_minor": 0,
  "metadata": {
    "colab": {
      "name": "2021_PPC_B",
      "provenance": []
    },
    "kernelspec": {
      "name": "python3",
      "display_name": "Python 3"
    },
    "language_info": {
      "name": "python"
    }
  },
  "cells": [
    {
      "cell_type": "markdown",
      "source": [
        "#백준 23814\n",
        "\n",
        "- 같은 메뉴 D개 당 군만두 서비스\n",
        "- N개의 짬뽕, M개의 짜장면을 이미 주문함\n",
        "- 남은 K명이 짜장 짬뽕 볶음밥 중에 하나를 주문..\n",
        "- 받는 군만두를 최대로 하면서 시킬 수 있는 볶음밥의 최대 갯수는?"
      ],
      "metadata": {
        "id": "Gnc44cI119Bo"
      }
    },
    {
      "cell_type": "markdown",
      "source": [
        "##틀림 (반례)\n",
        "\n",
        "    3 \n",
        "    5 5 12 (1 + 1 + 4 = 6) -> 6 6 10 (2 + 2 + 3 = 7)"
      ],
      "metadata": {
        "id": "KWxYLWth685u"
      }
    },
    {
      "cell_type": "markdown",
      "source": [
        "#틀림.."
      ],
      "metadata": {
        "id": "hxQPXQtV-ZRJ"
      }
    },
    {
      "cell_type": "code",
      "source": [
        "D = int(input())\n",
        "N, M, K = map(int, input().split())\n",
        "\n",
        "max = (N+M+K) // D       #받을 수 있는 최대 군만두\n",
        "\n",
        "if max == (N//D) + (M//D) + (K//D):\n",
        "    print(K)\n",
        "else:\n",
        "    #서비스를 받기위해 필요한 추가 주문 수량\n",
        "    #나머지가 0이면 0 있으면 D에서 나머지를 빼야함\n",
        "    if N % D == 0:\n",
        "        more_n = 0\n",
        "    else:\n",
        "        more_n = D - (N%D)\n",
        "    if M % D == 0:\n",
        "        more_m = 0\n",
        "    else:\n",
        "        more_m = D - (M%D)\n",
        "    sol = []\n",
        "    #짬뽕만 더 시킬때\n",
        "    sol.append(K - more_n)\n",
        "    #짜장만..\n",
        "    sol.append(K - more_m)\n",
        "    #둘다 더 시킬때\n",
        "    sol.append(K - more_n - more_m)\n",
        "\n",
        "    #print(sol)\n",
        "    sol.sort()\n",
        "    print(sol[-1])"
      ],
      "metadata": {
        "colab": {
          "base_uri": "https://localhost:8080/"
        },
        "id": "VqLKZWlF58x4",
        "outputId": "eaf23c24-cd42-48cc-9319-e39443f5dddf"
      },
      "execution_count": 8,
      "outputs": [
        {
          "output_type": "stream",
          "name": "stdout",
          "text": [
            "3\n",
            "2 4 10\n",
            "9\n"
          ]
        }
      ]
    },
    {
      "cell_type": "markdown",
      "source": [
        "##100%에서 틀림.."
      ],
      "metadata": {
        "id": "Zu2qP3mYUzMD"
      }
    },
    {
      "cell_type": "code",
      "source": [
        "D = int(input())\n",
        "N, M, K = map(int, input().split())\n",
        "\n",
        "max = (N+M+K) // D       #받을 수 있는 최대 군만두\n",
        "\n",
        "if max == (N//D) + (M//D) + (K//D):\n",
        "    print(K)\n",
        "else:\n",
        "    #서비스를 받기위해 필요한 추가 주문 수량\n",
        "    #나머지가 0이면 0 있으면 D에서 나머지를 빼야함\n",
        "    if N % D == 0:\n",
        "        more_n = 0\n",
        "    else:\n",
        "        more_n = D - (N%D)\n",
        "    if M % D == 0:\n",
        "        more_m = 0\n",
        "    else:\n",
        "        more_m = D - (M%D)\n",
        "    \n",
        "    sol = []\n",
        "    if max == (N//D +1) + M//D + (K-more_n)//D:\n",
        "        sol.append(K-more_n)\n",
        "        #print(K-more_n)\n",
        "    elif max == N//D + (M//D +1) + (K-more_m)//D:\n",
        "        sol.append(K-more_m)\n",
        "        #print(K-more_m)\n",
        "    elif max == (N//D +1) + (M//D +1) + (K-more_m-more_n)//D:\n",
        "        sol.append(K-more_n-more_m)\n",
        "        #print(K-more_n-more_m)\n",
        "    \n",
        "    #print(sol)\n",
        "    sol.sort()\n",
        "    print(sol[-1])"
      ],
      "metadata": {
        "colab": {
          "base_uri": "https://localhost:8080/"
        },
        "id": "l143v7xe8WpI",
        "outputId": "8bfbf35f-7f95-4c66-ec55-174a33619d0b"
      },
      "execution_count": 5,
      "outputs": [
        {
          "output_type": "stream",
          "name": "stdout",
          "text": [
            "3\n",
            "5 5 12\n",
            "10\n"
          ]
        }
      ]
    },
    {
      "cell_type": "code",
      "source": [
        ""
      ],
      "metadata": {
        "id": "0MCmUm72_xtI"
      },
      "execution_count": null,
      "outputs": []
    }
  ]
}