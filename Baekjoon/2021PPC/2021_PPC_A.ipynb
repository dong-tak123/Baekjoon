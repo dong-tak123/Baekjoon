{
  "nbformat": 4,
  "nbformat_minor": 0,
  "metadata": {
    "colab": {
      "name": "2021_PPC_A",
      "provenance": []
    },
    "kernelspec": {
      "name": "python3",
      "display_name": "Python 3"
    },
    "language_info": {
      "name": "python"
    }
  },
  "cells": [
    {
      "cell_type": "markdown",
      "source": [
        "#백준 23813"
      ],
      "metadata": {
        "id": "r6YUecDj0CIF"
      }
    },
    {
      "cell_type": "markdown",
      "source": [
        "- 정수 N이 주어질 때, 일의 자리 숫자를 떼서 제일 앞자리 왼쪽에 이어붙인 것을 N의 회전이라고 하자\n",
        "\n",
        "- 원래의 수로 돌아올 때까지의 회전의 합을 구하자"
      ],
      "metadata": {
        "id": "8jLv-gWX0EBZ"
      }
    },
    {
      "cell_type": "markdown",
      "source": [
        "풀이\n",
        "\n",
        "- 각 자릿수를 다 더한다.\n",
        "- 그거랑 bases (원래 N이 세자리수면 111, 네자리수면 1111...)\n",
        "- 두 개를 곱한다"
      ],
      "metadata": {
        "id": "W5eJM5i71f6H"
      }
    },
    {
      "cell_type": "code",
      "execution_count": 4,
      "metadata": {
        "colab": {
          "base_uri": "https://localhost:8080/"
        },
        "id": "93cuj3g-z-BK",
        "outputId": "036f8eb4-73d5-45f1-bf68-76e34ac62b7f"
      },
      "outputs": [
        {
          "output_type": "stream",
          "name": "stdout",
          "text": [
            "12345\n",
            "5\n",
            "166665\n"
          ]
        }
      ],
      "source": [
        "N = int(input())\n",
        "\n",
        "a = len(str(N))\n",
        "#print(a)\n",
        "bases = '1' * a\n",
        "\n",
        "sum = 0\n",
        "for i in str(N):\n",
        "    sum += int(i)\n",
        "\n",
        "print(sum * int(bases))"
      ]
    }
  ]
}