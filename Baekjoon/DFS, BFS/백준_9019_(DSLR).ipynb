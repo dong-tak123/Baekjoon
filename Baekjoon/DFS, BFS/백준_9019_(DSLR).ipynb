{
  "nbformat": 4,
  "nbformat_minor": 0,
  "metadata": {
    "colab": {
      "name": "백준 9019 (DSLR)",
      "provenance": []
    },
    "kernelspec": {
      "name": "python3",
      "display_name": "Python 3"
    },
    "language_info": {
      "name": "python"
    }
  },
  "cells": [
    {
      "cell_type": "markdown",
      "source": [
        "연산\n",
        "\n",
        "- D : 2n mod 10000\n",
        "- S : n - 1\n",
        "- L : 한칸 왼쪽으로\n",
        "- R : 한칸 오른쪽으로"
      ],
      "metadata": {
        "id": "LWCBF-WYwCOx"
      }
    },
    {
      "cell_type": "markdown",
      "source": [
        "최소한의 명령어.."
      ],
      "metadata": {
        "id": "2q1hu5_DwQoo"
      }
    },
    {
      "cell_type": "markdown",
      "source": [
        "#시간 초과.."
      ],
      "metadata": {
        "id": "6TUJcISq55ab"
      }
    },
    {
      "cell_type": "markdown",
      "source": [
        "시간초과를 해결 방안\n",
        "- visited를 set으로 지정하여 방문확인을 O(1)로 해준다\n",
        "- L, R을 하는 함수를 따로 만든다\n",
        "\n",
        "그래도 메모리 초과.."
      ],
      "metadata": {
        "id": "Q8GLIPgXmUnc"
      }
    },
    {
      "cell_type": "code",
      "execution_count": null,
      "metadata": {
        "colab": {
          "base_uri": "https://localhost:8080/"
        },
        "id": "L6g15s-pv-Q0",
        "outputId": "07eb522a-4ed1-46b0-f91f-3af73b0d53e4"
      },
      "outputs": [
        {
          "output_type": "stream",
          "name": "stdout",
          "text": [
            "3\n",
            "1234 3412\n",
            "LL\n",
            "1000 1\n",
            "L\n",
            "1 16\n",
            "DDDD\n"
          ]
        }
      ],
      "source": [
        "from collections import deque\n",
        "\n",
        "def left(n):\n",
        "    a = n % 1000\n",
        "    b = n // 1000\n",
        "    return a * 10 + b\n",
        "\n",
        "def right(n):\n",
        "    a = n % 10\n",
        "    b = n // 10\n",
        "    return a * 1000 + b\n",
        "\n",
        "def bfs(start, end):\n",
        "    D = ['D', 'S', 'L', 'R']\n",
        "    queue = deque()\n",
        "    queue.append(start)\n",
        "    while queue:\n",
        "        rear = queue.popleft()\n",
        "        if rear == end:\n",
        "            print(graph[rear])\n",
        "            break\n",
        "        for d in D:\n",
        "            if d == 'D':\n",
        "                temp = (2*rear) % max\n",
        "                if temp not in visited:\n",
        "                    graph[temp] = graph[rear] + d\n",
        "                    visited.add(temp)\n",
        "\n",
        "            elif d == 'S':\n",
        "                if rear == 0:\n",
        "                    temp = 9999\n",
        "                else:\n",
        "                    temp = rear - 1\n",
        "                    \n",
        "                if temp not in visited:\n",
        "                    graph[temp] = graph[rear] + d\n",
        "                    visited.add(temp)\n",
        "\n",
        "            elif d == 'L':\n",
        "                temp = left(rear)\n",
        "                if temp not in visited:\n",
        "                    graph[temp] = graph[rear] + d\n",
        "                    visited.add(temp)\n",
        "\n",
        "            elif d == 'D':\n",
        "                temp = right(rear)\n",
        "                if temp not in visited:\n",
        "                    graph[temp] = graph[rear] + d\n",
        "                    visited.add(temp)\n",
        "            queue.append(temp)\n",
        "              \n",
        "max = 10000\n",
        "T = int(input())\n",
        "\n",
        "for _ in range(T):\n",
        "    graph = [''] * max\n",
        "    visited = set()\n",
        "    start, end = map(int, input().split())\n",
        "    bfs(start, end)"
      ]
    },
    {
      "cell_type": "markdown",
      "source": [
        "아무리 생각해도 메모리를 줄일 수 있는 부분은 graph밖에 없다.."
      ],
      "metadata": {
        "id": "OpgK-DUA3vJV"
      }
    },
    {
      "cell_type": "code",
      "source": [
        "from collections import deque\n",
        "\"\"\"\n",
        "def left(n):\n",
        "    a = n % 1000\n",
        "    b = n // 1000\n",
        "    return a * 10 + b\n",
        "\n",
        "def right(n):\n",
        "    a = n % 10\n",
        "    b = n // 10\n",
        "    return a * 1000 + b\n",
        "\"\"\"\n",
        "def bfs(start, end):\n",
        "    D = ['D', 'S', 'L', 'R']\n",
        "    queue = deque()\n",
        "    queue.append([start, \"\"])\n",
        "    visited.add(start)\n",
        "    while queue:\n",
        "        rear, root = queue.popleft()\n",
        "        if rear == end:\n",
        "            print(root)\n",
        "            break\n",
        "        for d in D:\n",
        "            if d == 'D':\n",
        "                temp = (2*rear) % max\n",
        "                if temp not in visited:\n",
        "                    temp_root = root + d\n",
        "                    visited.add(temp)\n",
        "\n",
        "            elif d == 'S':\n",
        "                if rear == 0:\n",
        "                    temp = 9999\n",
        "                else:\n",
        "                    temp = rear - 1\n",
        "                    \n",
        "                if temp not in visited:\n",
        "                    temp_root = root + d\n",
        "                    visited.add(temp)\n",
        "\n",
        "            elif d == 'L':\n",
        "                temp = (rear%1000)*10 + (rear//1000)\n",
        "                if temp not in visited:\n",
        "                    temp_root = root + d\n",
        "                    visited.add(temp)\n",
        "\n",
        "            elif d == 'D':\n",
        "                temp = (rear%10)*1000 + (rear//10)\n",
        "                if temp not in visited:\n",
        "                    temp_root = root + d\n",
        "                    visited.add(temp)\n",
        "            queue.append([temp, temp_root])\n",
        "\n",
        "max = 10000\n",
        "T = int(input())\n",
        "\n",
        "for _ in range(T):\n",
        "    #graph = [''] * max\n",
        "    visited = set()\n",
        "    start, end = map(int, input().split())\n",
        "    bfs(start, end)"
      ],
      "metadata": {
        "colab": {
          "base_uri": "https://localhost:8080/"
        },
        "id": "ldlHZRDy3uZ8",
        "outputId": "49d0d0a7-2409-4b77-9b65-949b9781b839"
      },
      "execution_count": 3,
      "outputs": [
        {
          "output_type": "stream",
          "name": "stdout",
          "text": [
            "3\n",
            "1234 3412\n",
            "LL\n",
            "1000 1\n",
            "L\n",
            "1 16\n",
            "DDDD\n"
          ]
        }
      ]
    },
    {
      "cell_type": "markdown",
      "source": [
        "#PyPy3 통과..\n",
        "\n",
        "진짜 쓸데없는 메모리 다 쳐내야 함"
      ],
      "metadata": {
        "id": "YsoHrl7A9ZR1"
      }
    },
    {
      "cell_type": "code",
      "source": [
        "from collections import deque\n",
        "\n",
        "def bfs(start, end):\n",
        "    queue = deque()\n",
        "    queue.append([start, \"\"])\n",
        "    visited.add(start)\n",
        "    while queue:\n",
        "        rear, root = queue.popleft()\n",
        "        if rear == end:\n",
        "            print(root)\n",
        "            break\n",
        "        \n",
        "        if (2*rear) % max not in visited:     #D 연산\n",
        "            queue.append([(2*rear) % max, root + 'D'])\n",
        "            visited.add((2*rear) % max)\n",
        "\n",
        "        if (rear-1) % max not in visited:     #S 연산\n",
        "            queue.append([(rear-1) % max, root + 'S'])\n",
        "            visited.add((rear-1) % max)\n",
        "\n",
        "        if (rear%1000)*10 + (rear//1000) not in visited:    #L 연산\n",
        "            queue.append([(rear%1000)*10 + (rear//1000), root + 'L'])\n",
        "            visited.add((rear%1000)*10 + (rear//1000))\n",
        "            \n",
        "        if (rear%10)*1000 + (rear//10) not in visited:      #R 연산\n",
        "            queue.append([(rear%10)*1000 + (rear//10), root + 'R'])\n",
        "            visited.add((rear%10)*1000 + (rear//10))\n",
        "\n",
        "max = 10000\n",
        "T = int(input())\n",
        "\n",
        "for _ in range(T):\n",
        "    #graph = [''] * max\n",
        "    visited = set()\n",
        "    start, end = map(int, input().split())\n",
        "    bfs(start, end)"
      ],
      "metadata": {
        "colab": {
          "base_uri": "https://localhost:8080/"
        },
        "id": "l-bhfH8h5H0Q",
        "outputId": "909c54c6-f123-49e0-b9a2-ff911f54c85f"
      },
      "execution_count": 6,
      "outputs": [
        {
          "output_type": "stream",
          "name": "stdout",
          "text": [
            "3\n",
            "1234 3412\n",
            "LL\n",
            "1000 1\n",
            "L\n",
            "1 16\n",
            "DDDD\n"
          ]
        }
      ]
    },
    {
      "cell_type": "markdown",
      "source": [
        "튜플만 써도 시간 및 메모리에서 약간의 이득이 있다"
      ],
      "metadata": {
        "id": "88IFiEy8_fOl"
      }
    },
    {
      "cell_type": "code",
      "source": [
        "from collections import deque\n",
        "\n",
        "def bfs(start, end):\n",
        "    queue = deque()\n",
        "    queue.append((start, \"\"))\n",
        "    visited.add(start)\n",
        "    while queue:\n",
        "        rear, root = queue.popleft()\n",
        "        if rear == end:\n",
        "            print(root)\n",
        "            break\n",
        "        \n",
        "        temp = (2*rear) % max\n",
        "        if temp not in visited:     #D 연산\n",
        "            queue.append((temp, root + 'D'))\n",
        "            visited.add(temp)\n",
        "        \n",
        "        temp = (rear-1) % max\n",
        "        if temp not in visited:     #S 연산\n",
        "            queue.append((temp, root + 'S'))\n",
        "            visited.add(temp)\n",
        "\n",
        "        temp = (rear%1000)*10 + (rear//1000)\n",
        "        if temp not in visited:    #L 연산\n",
        "            queue.append((temp, root + 'L'))\n",
        "            visited.add(temp)\n",
        "           \n",
        "        temp = (rear%10)*1000 + (rear//10)\n",
        "        if temp not in visited:      #R 연산\n",
        "            queue.append((temp, root + 'R'))\n",
        "            visited.add(temp)\n",
        "\n",
        "max = 10000\n",
        "T = int(input())\n",
        "\n",
        "for _ in range(T):\n",
        "    #graph = [''] * max\n",
        "    visited = set()\n",
        "    start, end = map(int, input().split())\n",
        "    bfs(start, end)"
      ],
      "metadata": {
        "id": "roZxF1hR_dSx"
      },
      "execution_count": null,
      "outputs": []
    }
  ]
}