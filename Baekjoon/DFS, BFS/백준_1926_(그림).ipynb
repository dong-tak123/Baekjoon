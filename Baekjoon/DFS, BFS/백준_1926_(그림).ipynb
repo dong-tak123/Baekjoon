{
  "nbformat": 4,
  "nbformat_minor": 0,
  "metadata": {
    "colab": {
      "name": "백준 1926 (그림)",
      "provenance": []
    },
    "kernelspec": {
      "name": "python3",
      "display_name": "Python 3"
    },
    "language_info": {
      "name": "python"
    }
  },
  "cells": [
    {
      "cell_type": "markdown",
      "source": [
        "그림의 갯수와 가장 넓은 그림의 넓이를 출력하라"
      ],
      "metadata": {
        "id": "x2ZbrfJ-DAmR"
      }
    },
    {
      "cell_type": "markdown",
      "source": [
        "#Value error.."
      ],
      "metadata": {
        "id": "2UJVlSsrGf61"
      }
    },
    {
      "cell_type": "code",
      "execution_count": 6,
      "metadata": {
        "colab": {
          "base_uri": "https://localhost:8080/"
        },
        "id": "3fpdtG09C9CD",
        "outputId": "4c53a7fd-6891-4ce2-e42a-7f1cba56132d"
      },
      "outputs": [
        {
          "output_type": "stream",
          "name": "stdout",
          "text": [
            "2 2\n",
            "0 0\n",
            "0 0\n",
            "0\n",
            "0\n"
          ]
        }
      ],
      "source": [
        "def dfs(x, y):\n",
        "    arr[x][y] = 0\n",
        "    Area = 1\n",
        "    for p in range(4):\n",
        "        nx = x + dx[p]\n",
        "        ny = y + dy[p]\n",
        "        if (0<=nx<n) and (0<=ny<m) and (arr[nx][ny]==1):\n",
        "            Area += dfs(nx, ny)\n",
        "    return Area\n",
        "\n",
        "n, m = map(int, input().split())\n",
        "\n",
        "arr = []\n",
        "for _ in range(n):\n",
        "    arr.append(list(map(int, input().split())))\n",
        "\n",
        "dx = [1, -1, 0, 0]\n",
        "dy = [0, 0, 1, -1]\n",
        "\n",
        "cnt = 0\n",
        "check_area = []\n",
        "\n",
        "for i in range(n):\n",
        "    for j in range(m):\n",
        "        if arr[i][j] == 1:\n",
        "            area = dfs(i, j)\n",
        "            cnt += 1\n",
        "            check_area.append(area)\n",
        "\n",
        "print(cnt)\n",
        "\n",
        "if cnt:\n",
        "    print(max(check_area))\n",
        "else:\n",
        "    print(0)"
      ]
    },
    {
      "cell_type": "markdown",
      "source": [
        "#DFS는 메모리초과.."
      ],
      "metadata": {
        "id": "VzpiVWHbKIaO"
      }
    },
    {
      "cell_type": "code",
      "source": [
        "def dfs(x, y):\n",
        "    global Area\n",
        "    arr[x][y] = 0\n",
        "    Area += 1\n",
        "    for p in range(4):\n",
        "        nx = x + dx[p]\n",
        "        ny = y + dy[p]\n",
        "        if (0<=nx<n) and (0<=ny<m) and (arr[nx][ny]==1):\n",
        "            dfs(nx, ny)\n",
        "\n",
        "n, m = map(int, input().split())\n",
        "\n",
        "arr = []\n",
        "for _ in range(n):\n",
        "    arr.append(list(map(int, input().split())))\n",
        "\n",
        "dx = [1, -1, 0, 0]\n",
        "dy = [0, 0, 1, -1]\n",
        "\n",
        "check = []\n",
        "\n",
        "for i in range(n):\n",
        "    for j in range(m):\n",
        "        if arr[i][j] == 1:\n",
        "            Area = 0\n",
        "            dfs(i, j)\n",
        "            check.append(Area)\n",
        "\n",
        "if check:\n",
        "    print(len(check))\n",
        "    print(max(check))\n",
        "else:\n",
        "    print(0)\n",
        "    print(0)"
      ],
      "metadata": {
        "colab": {
          "base_uri": "https://localhost:8080/"
        },
        "id": "IM_T5zwwH0Gy",
        "outputId": "6a8d2106-9ea6-4ea9-c60d-99d4eb02094e"
      },
      "execution_count": 12,
      "outputs": [
        {
          "output_type": "stream",
          "name": "stdout",
          "text": [
            "6 5\n",
            "1 1 0 1 1\n",
            "0 1 1 0 0\n",
            "0 0 0 0 0\n",
            "1 0 1 1 1\n",
            "0 0 1 1 1\n",
            "0 0 1 1 1\n",
            "4\n",
            "9\n"
          ]
        }
      ]
    },
    {
      "cell_type": "markdown",
      "source": [
        "#BFS\n",
        "\n",
        "바로 통과.."
      ],
      "metadata": {
        "id": "Y4pt3JsKKL8a"
      }
    },
    {
      "cell_type": "code",
      "source": [
        "from collections import deque\n",
        "\n",
        "def bfs(x, y):\n",
        "    global Area\n",
        "    arr[x][y] = 0\n",
        "    queue = deque([[x, y]])\n",
        "    Area += 1\n",
        "\n",
        "    while queue:\n",
        "        tx, ty = queue.popleft()\n",
        "        for p in range(4):\n",
        "            nx = tx + dx[p]\n",
        "            ny = ty + dy[p]\n",
        "            if (0<=nx<n) and (0<=ny<m) and (arr[nx][ny]==1):\n",
        "                arr[nx][ny] = 0\n",
        "                queue.append([nx, ny])\n",
        "                Area += 1\n",
        "\n",
        "n, m = map(int, input().split())\n",
        "\n",
        "arr = []\n",
        "for _ in range(n):\n",
        "    arr.append(list(map(int, input().split())))\n",
        "\n",
        "dx = [1, -1, 0, 0]\n",
        "dy = [0, 0, 1, -1]\n",
        "\n",
        "check = []\n",
        "\n",
        "for i in range(n):\n",
        "    for j in range(m):\n",
        "        if arr[i][j] == 1:\n",
        "            Area = 0\n",
        "            bfs(i, j)\n",
        "            check.append(Area)\n",
        "\n",
        "if check:\n",
        "    print(len(check))\n",
        "    print(max(check))\n",
        "else:\n",
        "    print(0)\n",
        "    print(0)"
      ],
      "metadata": {
        "colab": {
          "base_uri": "https://localhost:8080/"
        },
        "id": "hKVeN4nDKM8i",
        "outputId": "e4951756-29c2-472f-ee79-81c47dee7fbe"
      },
      "execution_count": 16,
      "outputs": [
        {
          "output_type": "stream",
          "name": "stdout",
          "text": [
            "6 5\n",
            "1 1 0 1 1\n",
            "0 1 1 0 0\n",
            "0 0 0 0 0\n",
            "1 0 1 1 1\n",
            "0 0 1 1 1\n",
            "0 0 1 1 1\n",
            "4\n",
            "9\n"
          ]
        }
      ]
    }
  ]
}