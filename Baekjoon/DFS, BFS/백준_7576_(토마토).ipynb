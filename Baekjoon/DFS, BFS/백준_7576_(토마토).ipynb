{
  "nbformat": 4,
  "nbformat_minor": 0,
  "metadata": {
    "colab": {
      "name": "백준 7576 (토마토)",
      "provenance": []
    },
    "kernelspec": {
      "name": "python3",
      "display_name": "Python 3"
    },
    "language_info": {
      "name": "python"
    }
  },
  "cells": [
    {
      "cell_type": "markdown",
      "source": [
        "- 처음에 토마토를 다 넣어놓는다는 것이 중요하다\n",
        "- 마지막 확인 과정에서 break를 나올 수 있으면 더 효율적일 거 같다"
      ],
      "metadata": {
        "id": "I1xavJOYaPn4"
      }
    },
    {
      "cell_type": "code",
      "execution_count": 1,
      "metadata": {
        "colab": {
          "base_uri": "https://localhost:8080/"
        },
        "id": "NY-WIm1UR3Gx",
        "outputId": "da535e25-4be1-49ce-8977-bff57570530f"
      },
      "outputs": [
        {
          "output_type": "stream",
          "name": "stdout",
          "text": [
            "6 4\n",
            "0 -1 0 0 0 0\n",
            "-1 0 0 0 0 0\n",
            "0 0 0 0 0 0\n",
            "0 0 0 0 0 1\n",
            "-1\n"
          ]
        }
      ],
      "source": [
        "from collections import deque\n",
        "\n",
        "def bfs():\n",
        "    while q:\n",
        "        tx, ty = q.popleft()\n",
        "        for p in range(4):\n",
        "            nx = tx + dx[p]\n",
        "            ny = ty + dy[p]\n",
        "            if (0<= nx < m) and (0 <= ny < n) and (graph[nx][ny] == 0):\n",
        "                q.append([nx, ny])\n",
        "                graph[nx][ny] += graph[tx][ty] + 1\n",
        "\n",
        "#n : col, m : row\n",
        "n, m = map(int, input().split())\n",
        "\n",
        "dx = [1, -1, 0, 0]\n",
        "dy = [0, 0, 1, -1]\n",
        "\n",
        "graph = []\n",
        "for _ in range(m):\n",
        "    graph.append(list(map(int, input().split())))\n",
        "\n",
        "date = []\n",
        "q = deque()\n",
        "for i in range(m):\n",
        "    for j in range(n):\n",
        "        if graph[i][j] == 1:\n",
        "            #일단 토마토를 다 넣어주고 시작해야함 그래야 동시에 진행됨\n",
        "            q.append([i, j])\n",
        "\n",
        "bfs()\n",
        "\n",
        "\n",
        "#다 익었는지 확인 과정\n",
        "flag = True\n",
        "max = 0\n",
        "for i in range(m):\n",
        "    for j in range(n):\n",
        "        if graph[i][j] == 0:\n",
        "            flag = False\n",
        "        if max < graph[i][j]:\n",
        "            max = graph[i][j]\n",
        "if flag:\n",
        "    print(max-1)\n",
        "else:\n",
        "    print(-1)"
      ]
    }
  ]
}