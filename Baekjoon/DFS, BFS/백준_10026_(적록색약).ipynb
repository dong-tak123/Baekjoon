{
  "nbformat": 4,
  "nbformat_minor": 0,
  "metadata": {
    "colab": {
      "name": "백준 10026 (적록색약)",
      "provenance": []
    },
    "kernelspec": {
      "name": "python3",
      "display_name": "Python 3"
    },
    "language_info": {
      "name": "python"
    }
  },
  "cells": [
    {
      "cell_type": "markdown",
      "source": [
        "적록색약이면 R, G가 같은걸로 보임\n",
        "\n",
        "RGB의 영역의 수를 구하라"
      ],
      "metadata": {
        "id": "c5rGa_odwTEN"
      }
    },
    {
      "cell_type": "markdown",
      "source": [
        "#메모리 초과.."
      ],
      "metadata": {
        "id": "4pKA94b61cLL"
      }
    },
    {
      "cell_type": "code",
      "execution_count": 11,
      "metadata": {
        "colab": {
          "base_uri": "https://localhost:8080/"
        },
        "id": "na1A9FCjwN9v",
        "outputId": "8440b32a-0ce2-40d8-9ab6-7590b5dfd1bb"
      },
      "outputs": [
        {
          "output_type": "stream",
          "name": "stdout",
          "text": [
            "5\n",
            "RRRBB\n",
            "GGBBB\n",
            "BBBRR\n",
            "BBRRR\n",
            "RRRRR\n",
            "4 3\n"
          ]
        }
      ],
      "source": [
        "def dfs_good(x, y):\n",
        "    visited_good.add((x, y))\n",
        "    dx = [1, -1, 0, 0]\n",
        "    dy = [0, 0, -1, 1]\n",
        "    for p in range(4):\n",
        "        nx = x + dx[p]\n",
        "        ny = y + dy[p]\n",
        "\n",
        "        if (0 <= nx < n) and (0 <= ny < n) and ((nx, ny) not in visited_good):\n",
        "            if matrix[x][y] == matrix[nx][ny]:\n",
        "                dfs_good(nx, ny)\n",
        "\n",
        "def dfs_ill(x, y):\n",
        "    visited_ill.add((x, y))\n",
        "    dx = [1, -1, 0, 0]\n",
        "    dy = [0, 0, -1, 1]\n",
        "    for p in range(4):\n",
        "        nx = x + dx[p]\n",
        "        ny = y + dy[p]\n",
        "\n",
        "        if (0 <= nx < n) and (0 <= ny < n) and ((nx, ny) not in visited_ill):\n",
        "            if matrix[x][y] == 'R' or matrix[x][y] == 'G':\n",
        "                if matrix[nx][ny] == 'R' or matrix[nx][ny] == 'G':\n",
        "                    dfs_ill(nx, ny)\n",
        "            else:\n",
        "                if matrix[x][y] == matrix[nx][ny]:\n",
        "                    dfs_ill(nx, ny)\n",
        "\n",
        "n = int(input())\n",
        "\n",
        "matrix = []\n",
        "visited_good = set()\n",
        "visited_ill = set()\n",
        "for _ in range(n):\n",
        "    matrix.append(list(map(str, input())))\n",
        "\n",
        "cnt_good = 0\n",
        "for i in range(n):\n",
        "    for j in range(n):\n",
        "        if (i, j) not in visited_good:\n",
        "            dfs_good(i, j)\n",
        "            cnt_good += 1\n",
        "#print(cnt_good)\n",
        "\n",
        "cnt_ill = 0\n",
        "for i in range(n):\n",
        "    for j in range(n):\n",
        "        if (i, j) not in visited_ill:\n",
        "            dfs_ill(i, j)\n",
        "            cnt_ill += 1\n",
        "#print(cnt_ill)\n",
        "print(cnt_good, cnt_ill)"
      ]
    },
    {
      "cell_type": "markdown",
      "source": [
        "#또모리초과"
      ],
      "metadata": {
        "id": "fdW7_8uQ3BWU"
      }
    },
    {
      "cell_type": "code",
      "source": [
        "def dfs_good(x, y):\n",
        "    visited_good.add((x, y))\n",
        "    dx = [1, -1, 0, 0]\n",
        "    dy = [0, 0, -1, 1]\n",
        "    for p in range(4):\n",
        "        nx = x + dx[p]\n",
        "        ny = y + dy[p]\n",
        "\n",
        "        if (0 <= nx < n) and (0 <= ny < n) and ((nx, ny) not in visited_good):\n",
        "            if matrix[x][y] == matrix[nx][ny]:\n",
        "                dfs_good(nx, ny)\n",
        "\n",
        "n = int(input())\n",
        "\n",
        "matrix = []\n",
        "visited_good = set()\n",
        "for _ in range(n):\n",
        "    matrix.append(list(map(str, input())))\n",
        "\n",
        "cnt_good = 0\n",
        "for i in range(n):\n",
        "    for j in range(n):\n",
        "        if (i, j) not in visited_good:\n",
        "            dfs_good(i, j)\n",
        "            cnt_good += 1\n",
        "#print(cnt_good)\n",
        "\n",
        "visited_good.clear()\n",
        "cnt_ill = 0\n",
        "for i in range(n):\n",
        "    for j in range(n):\n",
        "        if matrix[i][j] == 'R':\n",
        "            matrix[i][j] = 'G'\n",
        "\n",
        "for i in range(n):\n",
        "    for j in range(n):\n",
        "        if (i, j) not in visited_good:\n",
        "            dfs_good(i, j)\n",
        "            cnt_ill += 1\n",
        "#print(cnt_ill)\n",
        "print(cnt_good, cnt_ill)"
      ],
      "metadata": {
        "colab": {
          "base_uri": "https://localhost:8080/"
        },
        "id": "pvvbNuFezDz2",
        "outputId": "78d262d6-b341-448d-ccf5-e7a40eae8b76"
      },
      "execution_count": 15,
      "outputs": [
        {
          "output_type": "stream",
          "name": "stdout",
          "text": [
            "5\n",
            "RRRBB\n",
            "GGBBB\n",
            "BBBRR\n",
            "BBRRR\n",
            "RRRRR\n",
            "4 3\n"
          ]
        }
      ]
    },
    {
      "cell_type": "markdown",
      "source": [
        "#파이썬으로 하니까 바로 맞노.."
      ],
      "metadata": {
        "id": "jO1L3Hn74JGM"
      }
    },
    {
      "cell_type": "code",
      "source": [
        "def dfs(x, y):\n",
        "    visited.add((x, y))\n",
        "    for p in range(4):\n",
        "        nx = x + dx[p]\n",
        "        ny = y + dy[p]\n",
        "\n",
        "        if (0 <= nx < n) and (0 <= ny < n) and ((nx, ny) not in visited):\n",
        "            if matrix[x][y] == matrix[nx][ny]:\n",
        "                dfs(nx, ny)\n",
        "\n",
        "n = int(input())\n",
        "dx = [1, -1, 0, 0]\n",
        "dy = [0, 0, -1, 1]\n",
        "\n",
        "matrix = []\n",
        "for _ in range(n):\n",
        "    matrix.append(list(map(str, input())))\n",
        "visited = set()\n",
        "\n",
        "cnt_good = 0\n",
        "for i in range(n):\n",
        "    for j in range(n):\n",
        "        if (i, j) not in visited:\n",
        "            dfs(i, j)\n",
        "            cnt_good += 1\n",
        "#print(cnt_good)\n",
        "\n",
        "\n",
        "#적록색약이 있는 경우\n",
        "visited.clear()\n",
        "cnt_ill = 0\n",
        "for i in range(n):\n",
        "    for j in range(n):\n",
        "        if matrix[i][j] == 'R':\n",
        "            matrix[i][j] = 'G'\n",
        "\n",
        "for i in range(n):\n",
        "    for j in range(n):\n",
        "        if (i, j) not in visited:\n",
        "            dfs(i, j)\n",
        "            cnt_ill += 1\n",
        "#print(cnt_ill)\n",
        "print(cnt_good, cnt_ill)"
      ],
      "metadata": {
        "colab": {
          "base_uri": "https://localhost:8080/"
        },
        "id": "M05GRmLK2RLQ",
        "outputId": "1a8f69d6-37ff-4c48-f54e-0b886f555c5d"
      },
      "execution_count": 16,
      "outputs": [
        {
          "output_type": "stream",
          "name": "stdout",
          "text": [
            "5\n",
            "RRRBB\n",
            "GGBBB\n",
            "BBBRR\n",
            "BBRRR\n",
            "RRRRR\n",
            "4 3\n"
          ]
        }
      ]
    },
    {
      "cell_type": "code",
      "source": [
        ""
      ],
      "metadata": {
        "id": "K-COKFV33MNZ"
      },
      "execution_count": null,
      "outputs": []
    }
  ]
}