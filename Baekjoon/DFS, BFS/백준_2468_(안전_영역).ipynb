{
  "nbformat": 4,
  "nbformat_minor": 0,
  "metadata": {
    "colab": {
      "name": "백준 2468 (안전 영역)",
      "provenance": []
    },
    "kernelspec": {
      "name": "python3",
      "display_name": "Python 3"
    },
    "language_info": {
      "name": "python"
    }
  },
  "cells": [
    {
      "cell_type": "markdown",
      "source": [
        "안전영역 : 대각선은 연결 안 된거로 생각\n",
        "\n",
        "1 ~ 100까지의 강수량을 하나하나 다 확인해 보면서 최대 안전영역 갯수 확인해야 함\n",
        "\n",
        "하나하나 해볼때 마다 matrix가 바뀌니까 복사해서 써야함"
      ],
      "metadata": {
        "id": "6vcLF0Bym6KU"
      }
    },
    {
      "cell_type": "markdown",
      "source": [
        "#무조건 시간초과일 듯..\n",
        "\n",
        "-> 결과는 틀렸습니다..\n",
        "\n",
        "-> max의 초기치를 0이 아니라 1로 두어야 맞음\n",
        "\n",
        "-> 시간초과는 아니었음"
      ],
      "metadata": {
        "id": "BtipBG1qsPgb"
      }
    },
    {
      "cell_type": "code",
      "execution_count": 33,
      "metadata": {
        "colab": {
          "base_uri": "https://localhost:8080/"
        },
        "id": "fiCea_FHmrIZ",
        "outputId": "e5dc422f-ebda-4ac0-a18e-0dc504a5ad00"
      },
      "outputs": [
        {
          "output_type": "stream",
          "name": "stdout",
          "text": [
            "2\n",
            "1 1\n",
            "1 2\n",
            "1\n"
          ]
        }
      ],
      "source": [
        "\"\"\"\n",
        "import sys\n",
        "sys.setrecursionlimit(100000)\n",
        "input = sys.stdin.readline\n",
        "\"\"\"\n",
        "\n",
        "def dfs(x, y, raindrop):\n",
        "    visited[x][y] = True\n",
        "    \n",
        "    dx = [1, -1, 0, 0]\n",
        "    dy = [0, 0, 1, -1]\n",
        "\n",
        "    for i in range(4):\n",
        "        nx = x + dx[i]\n",
        "        ny = y + dy[i]\n",
        "\n",
        "        if (0 <= nx < n) and (0 <= ny < n) and (not visited[nx][ny]):\n",
        "            if matrix[nx][ny] > raindrop:\n",
        "                dfs(nx, ny, raindrop)\n",
        "\n",
        "n = int(input())\n",
        "\n",
        "matrix = []\n",
        "for _ in range(n):\n",
        "    matrix.append(list(map(int, input().split())))\n",
        "\n",
        "max = 1\n",
        "for drop in range(1, 101):\n",
        "    visited = [[False] * n for _ in range(n)]\n",
        "    cnt = 0\n",
        "    #print(matrix)\n",
        "    for row in range(n):\n",
        "        for col in range(n):\n",
        "            if (matrix[row][col] > drop) and (not visited[row][col]):\n",
        "                dfs(row, col, drop)\n",
        "                cnt += 1\n",
        "\n",
        "    if max < cnt:\n",
        "        max = cnt\n",
        "\n",
        "print(max)"
      ]
    }
  ]
}