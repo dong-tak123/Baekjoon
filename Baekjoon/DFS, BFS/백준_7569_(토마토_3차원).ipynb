{
  "nbformat": 4,
  "nbformat_minor": 0,
  "metadata": {
    "colab": {
      "name": "백준 7569 (토마토 3차원)",
      "provenance": []
    },
    "kernelspec": {
      "name": "python3",
      "display_name": "Python 3"
    },
    "language_info": {
      "name": "python"
    }
  },
  "cells": [
    {
      "cell_type": "markdown",
      "source": [
        "#삼차원으로만 바꾸면 동일\n",
        "\n",
        "- 토마토를 바로 q에 넣어놓고 bfs\n",
        "- 동일한 문제.. 확인과정에서의 효율성"
      ],
      "metadata": {
        "id": "UkZNwrF7cHl3"
      }
    },
    {
      "cell_type": "code",
      "execution_count": 4,
      "metadata": {
        "colab": {
          "base_uri": "https://localhost:8080/"
        },
        "id": "WGxbozivakii",
        "outputId": "98b0bb9f-b8f1-4c10-d0aa-389d6dd6c8ed"
      },
      "outputs": [
        {
          "output_type": "stream",
          "name": "stdout",
          "text": [
            "4 3 2\n",
            "1 1 1 1\n",
            "1 1 1 1\n",
            "1 1 1 1\n",
            "1 1 1 1\n",
            "-1 -1 -1 -1\n",
            "1 1 1 -1\n",
            "0\n"
          ]
        }
      ],
      "source": [
        "from collections import deque\n",
        "\n",
        "def bfs():\n",
        "    while q:\n",
        "        th, tx, ty = q.popleft()\n",
        "        for p in range(6):\n",
        "            nh = th + dh[p]\n",
        "            nx = tx + dx[p]\n",
        "            ny = ty + dy[p]\n",
        "            if (0 <= nh < h) and (0<= nx < m) and (0 <= ny < n) and (graph[nh][nx][ny] == 0):\n",
        "                q.append([nh, nx, ny])\n",
        "                graph[nh][nx][ny] += graph[th][tx][ty] + 1\n",
        "\n",
        "#n : col, m : row\n",
        "n, m, h= map(int, input().split())\n",
        "\n",
        "dh = [1, -1, 0, 0, 0, 0]\n",
        "dx = [0, 0, 1, -1, 0, 0]\n",
        "dy = [0, 0, 0, 0, 1, -1]\n",
        "\n",
        "graph = []\n",
        "for _ in range(h):\n",
        "    layer = []\n",
        "    for _ in range(m):\n",
        "        layer.append(list(map(int, input().split())))\n",
        "    graph.append(layer)\n",
        "\n",
        "q = deque()\n",
        "for k in range(h):\n",
        "    for i in range(m):\n",
        "        for j in range(n):\n",
        "            if graph[k][i][j] == 1:\n",
        "                #일단 토마토를 다 넣어주고 시작해야함 그래야 동시에 진행됨\n",
        "                q.append([k, i, j])\n",
        "\n",
        "bfs()\n",
        "\n",
        "\n",
        "#다 익었는지 확인 과정\n",
        "flag = True\n",
        "max = 0\n",
        "for k in range(h):\n",
        "    for i in range(m):\n",
        "        for j in range(n):\n",
        "            if graph[k][i][j] == 0:\n",
        "                flag = False\n",
        "            if max < graph[k][i][j]:\n",
        "                max = graph[k][i][j]\n",
        "if flag:\n",
        "    print(max-1)\n",
        "else:\n",
        "    print(-1)"
      ]
    },
    {
      "cell_type": "code",
      "source": [
        ""
      ],
      "metadata": {
        "id": "hhz1jyzUbm3c"
      },
      "execution_count": null,
      "outputs": []
    }
  ]
}