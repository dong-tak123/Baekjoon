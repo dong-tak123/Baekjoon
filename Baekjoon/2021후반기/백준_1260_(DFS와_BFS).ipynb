{
  "nbformat": 4,
  "nbformat_minor": 0,
  "metadata": {
    "colab": {
      "name": "백준 1260 (DFS와 BFS)",
      "provenance": [],
      "collapsed_sections": []
    },
    "kernelspec": {
      "name": "python3",
      "display_name": "Python 3"
    },
    "language_info": {
      "name": "python"
    }
  },
  "cells": [
    {
      "cell_type": "code",
      "metadata": {
        "colab": {
          "base_uri": "https://localhost:8080/"
        },
        "id": "V_Vm2BahvaBZ",
        "outputId": "4aa7100a-0c8d-470f-8923-f965a6ea64e0"
      },
      "source": [
        "from collections import deque\n",
        "\n",
        "def dfs(graph, start, visited):\n",
        "    visited[start] = True\n",
        "    print(start, end=\" \")\n",
        "    for i in graph[start]:\n",
        "        if visited[i] is False:\n",
        "            dfs(graph, i, visited)\n",
        "\n",
        "def bfs(graph, start, visited):\n",
        "    queue = deque([start])\n",
        "    visited[start] = True\n",
        "    while queue:\n",
        "        v = queue.popleft()\n",
        "        print(v, end=\" \")\n",
        "        for i in graph[v]:\n",
        "            if visited[i] is False:\n",
        "                queue.append(i)\n",
        "                visited[i] = True\n",
        "\n",
        "N, M, V = map(int, input().split())\n",
        "\n",
        "#인접리스트 생성\n",
        "graph = [[] for _ in range(N+1)]\n",
        "\n",
        "for _ in range(M):\n",
        "    a, b = map(int, input().split())\n",
        "    graph[a].append(b)\n",
        "    graph[b].append(a)\n",
        "\n",
        "for i in graph:\n",
        "    i.sort()\n",
        "print(graph)\n",
        "\n",
        "#방문 리스트 생성\n",
        "visited_dfs = [False] * (N+1)\n",
        "visited_bfs = [False] * (N+1)\n",
        "\n",
        "print(dfs(graph, V, visited_dfs))\n",
        "print(bfs(graph, V, visited_bfs))"
      ],
      "execution_count": null,
      "outputs": [
        {
          "output_type": "stream",
          "name": "stdout",
          "text": [
            "5 5 3\n",
            "5 4\n",
            "5 2\n",
            "1 2\n",
            "3 4\n",
            "3 1\n",
            "[[], [2, 3], [1, 5], [1, 4], [3, 5], [2, 4]]\n",
            "3 1 2 5 4 None\n",
            "3 1 4 2 5 None\n"
          ]
        }
      ]
    },
    {
      "cell_type": "code",
      "metadata": {
        "colab": {
          "base_uri": "https://localhost:8080/"
        },
        "id": "MC5aejovkOWE",
        "outputId": "56c1692f-8c3f-478d-bd04-c577bc3c4595"
      },
      "source": [
        "1 N, M, V = map(int, input().split())\n",
        "\n",
        "a = [[0 for _ in range(N)] for _ in range(N)]\n",
        "\n",
        "#인접리스트 생성\n",
        "for _ in range(M):\n",
        "    m, n = map(int, input().split())\n",
        "    a[m-1][n-1] = 1\n",
        "    a[n-1][m-1] = 1\n",
        "\n",
        "dfs = []\n",
        "bfs = []\n",
        "\n",
        "#dfs\n",
        "for i in range(N):\n",
        "    if a[V-1][i] == 1:\n",
        "        bfs.append(i)\n",
        "print(bfs)"
      ],
      "execution_count": null,
      "outputs": [
        {
          "output_type": "stream",
          "name": "stdout",
          "text": [
            "5 5 3\n",
            "5 4\n",
            "5 2\n",
            "1 2\n",
            "3 4\n",
            "3 1\n",
            "{5: [4, 2], 1: [2], 3: [4, 1]}\n",
            "[[2], [4, 1], [4, 2]]\n"
          ]
        }
      ]
    },
    {
      "cell_type": "markdown",
      "source": [
        "##풀이.."
      ],
      "metadata": {
        "id": "FPsPRhvHoofZ"
      }
    },
    {
      "cell_type": "code",
      "metadata": {
        "id": "gcXIa6ZGsutp",
        "colab": {
          "base_uri": "https://localhost:8080/"
        },
        "outputId": "fefa22b4-2845-4374-8145-753e4438eaa6"
      },
      "source": [
        "from collections import deque\n",
        "import sys\n",
        "#read = sys.stdin.readline\n",
        "\n",
        "def bfs(v):\n",
        "  q = deque()\n",
        "  q.append(v)       \n",
        "  visit_list[v] = 1   \n",
        "  while q:\n",
        "    v = q.popleft()\n",
        "    print(v, end = \" \")\n",
        "    for i in range(1, n + 1):\n",
        "      if visit_list[i] == 0 and graph[v][i] == 1:\n",
        "        q.append(i)\n",
        "        visit_list[i] = 1\n",
        "\n",
        "def dfs(v):\n",
        "  visit_list2[v] = 1        \n",
        "  print(v, end = \" \")\n",
        "  for i in range(1, n + 1):\n",
        "    if visit_list2[i] == 0 and graph[v][i] == 1:\n",
        "      dfs(i)\n",
        "\n",
        "n, m, v = map(int, input().split())\n",
        "\n",
        "graph = [[0] * (n + 1) for _ in range(n + 1)] \n",
        "visit_list = [0] * (n + 1)\n",
        "visit_list2 = [0] * (n + 1)\n",
        "\n",
        "for _ in range(m):\n",
        "  a, b = map(int, input().split())\n",
        "  graph[a][b] = graph[b][a] = 1\n",
        "\n",
        "dfs(v)\n",
        "print()\n",
        "bfs(v)"
      ],
      "execution_count": 3,
      "outputs": [
        {
          "output_type": "stream",
          "name": "stdout",
          "text": [
            "1000 1 1000\n",
            "999 1000\n",
            "1000 999 \n",
            "1000 999 "
          ]
        }
      ]
    },
    {
      "cell_type": "code",
      "source": [
        ""
      ],
      "metadata": {
        "id": "_pOjFOhBou1y"
      },
      "execution_count": null,
      "outputs": []
    }
  ]
}