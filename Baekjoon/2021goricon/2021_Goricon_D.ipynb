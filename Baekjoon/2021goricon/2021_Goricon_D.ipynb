{
  "nbformat": 4,
  "nbformat_minor": 0,
  "metadata": {
    "colab": {
      "name": "2021_Goricon_D",
      "provenance": []
    },
    "kernelspec": {
      "name": "python3",
      "display_name": "Python 3"
    },
    "language_info": {
      "name": "python"
    }
  },
  "cells": [
    {
      "cell_type": "markdown",
      "source": [
        "#백준 23630"
      ],
      "metadata": {
        "id": "jnVgF7m_B50h"
      }
    },
    {
      "cell_type": "markdown",
      "source": [
        "자연수의 수열이 주어진다..\n",
        "\n",
        "부분수열을 하나 가져와서,\n",
        "- (1) 모두 비트연산 and를 했을 때 0이 아니다\n",
        "- (2) 같은거 중복 안됨..\n",
        "\n",
        "을 만족하는 가장 긴 부분 수열을 구하라"
      ],
      "metadata": {
        "id": "lgP8YcPD8QQV"
      }
    },
    {
      "cell_type": "markdown",
      "source": [
        "##메모리 초과.."
      ],
      "metadata": {
        "id": "e82FxCSYB3Jw"
      }
    },
    {
      "cell_type": "code",
      "execution_count": 20,
      "metadata": {
        "colab": {
          "base_uri": "https://localhost:8080/",
          "height": 105
        },
        "id": "FzlVQjSW8PIw",
        "outputId": "4458ee31-09e0-46c3-c0db-5ed96c9da65b"
      },
      "outputs": [
        {
          "output_type": "stream",
          "name": "stdout",
          "text": [
            "5\n",
            "5 6 7 11 15\n",
            "4\n"
          ]
        },
        {
          "output_type": "execute_result",
          "data": {
            "application/vnd.google.colaboratory.intrinsic+json": {
              "type": "string"
            },
            "text/plain": [
              "'\\nindex = range(N)\\na = list(combinations(index, 2))\\nfor k in a:\\n    partial = nums[k[0]:k[1]+1]\\n    #print(partial)         cool\\n    if check_1(partial):\\n'"
            ]
          },
          "metadata": {},
          "execution_count": 20
        }
      ],
      "source": [
        "from itertools import combinations\n",
        "\n",
        "def check_1(Nums):\n",
        "    for i in range(len(Nums)):\n",
        "        if i == 0:\n",
        "            res = Nums[i]\n",
        "        else:\n",
        "            res &= Nums[i]\n",
        "        if res == 0:\n",
        "            return False\n",
        "    return True\n",
        "\n",
        "Partials = {}       #부분수열 모은거\n",
        "\n",
        "N = int(input())\n",
        "nums = list(map(int, input().split()))\n",
        "\n",
        "for i in range(2,N+1):\n",
        "    for k in list(combinations(nums, i)):\n",
        "        if check_1(k):    #조건1 만족하면 무조건 맞음.. 추가해야함..\n",
        "            if i in Partials.keys():\n",
        "                Partials[i].append(k)\n",
        "            else:\n",
        "                Partials[i] = [k]\n",
        "\n",
        "print(max(Partials.keys()))\n",
        "print(Partials)      "
      ]
    },
    {
      "cell_type": "markdown",
      "source": [
        "##메모리초과 2회..\n",
        "\n",
        "- 메모리 초과 방지를 위해 Partial 딕셔너리를 안써도 초과됨.."
      ],
      "metadata": {
        "id": "9uFzGyPjEajE"
      }
    },
    {
      "cell_type": "code",
      "source": [
        "from itertools import combinations\n",
        "\n",
        "def check_1(Nums):\n",
        "    for i in range(len(Nums)):\n",
        "        if i == 0:\n",
        "            res = Nums[i]\n",
        "        else:\n",
        "            res &= Nums[i]\n",
        "        if res == 0:\n",
        "            return False\n",
        "    return True\n",
        "\n",
        "N = int(input())\n",
        "nums = list(map(int, input().split()))\n",
        "\n",
        "longest = 1 #최장 부분수열 길이\n",
        "for i in range(2,N+1):\n",
        "    for k in list(combinations(nums, i)):\n",
        "        if check_1(k):    #조건1 만족하면 무조건 맞음.. 추가해야함..\n",
        "            longest += 1\n",
        "            break\n",
        "\n",
        "print(longest)"
      ],
      "metadata": {
        "colab": {
          "base_uri": "https://localhost:8080/"
        },
        "id": "HyErMeYUETit",
        "outputId": "739292ac-1983-4b44-ac55-aaef07c19a7b"
      },
      "execution_count": 21,
      "outputs": [
        {
          "output_type": "stream",
          "name": "stdout",
          "text": [
            "5\n",
            "5 6 7 11 15\n",
            "4\n"
          ]
        }
      ]
    },
    {
      "cell_type": "code",
      "source": [
        "p = check_1([5, 6, 11])\n",
        "print(p)"
      ],
      "metadata": {
        "colab": {
          "base_uri": "https://localhost:8080/"
        },
        "id": "d2gxkZQLA5Br",
        "outputId": "ed7b4d3d-b166-4905-9bdc-5f424614f209"
      },
      "execution_count": 17,
      "outputs": [
        {
          "output_type": "stream",
          "name": "stdout",
          "text": [
            "False\n"
          ]
        }
      ]
    },
    {
      "cell_type": "code",
      "source": [
        "from itertools import combinations\n",
        "\n",
        "items = [0,1,2,3,4,5]\n",
        "a = list(combinations(items, 2))\n",
        "a"
      ],
      "metadata": {
        "colab": {
          "base_uri": "https://localhost:8080/"
        },
        "id": "m3xAAtZg-W4n",
        "outputId": "ad469062-a771-4aca-98c0-107422fa2c5c"
      },
      "execution_count": 6,
      "outputs": [
        {
          "output_type": "execute_result",
          "data": {
            "text/plain": [
              "[(0, 1),\n",
              " (0, 2),\n",
              " (0, 3),\n",
              " (0, 4),\n",
              " (0, 5),\n",
              " (1, 2),\n",
              " (1, 3),\n",
              " (1, 4),\n",
              " (1, 5),\n",
              " (2, 3),\n",
              " (2, 4),\n",
              " (2, 5),\n",
              " (3, 4),\n",
              " (3, 5),\n",
              " (4, 5)]"
            ]
          },
          "metadata": {},
          "execution_count": 6
        }
      ]
    },
    {
      "cell_type": "code",
      "source": [
        "type(a[0][0])"
      ],
      "metadata": {
        "colab": {
          "base_uri": "https://localhost:8080/"
        },
        "id": "5GrSeOtq-g4D",
        "outputId": "7aa0c1c9-5ecd-43d4-b81f-5aa8b38b452d"
      },
      "execution_count": 5,
      "outputs": [
        {
          "output_type": "execute_result",
          "data": {
            "text/plain": [
              "int"
            ]
          },
          "metadata": {},
          "execution_count": 5
        }
      ]
    },
    {
      "cell_type": "code",
      "source": [
        ""
      ],
      "metadata": {
        "id": "r-o0izKB-u29"
      },
      "execution_count": null,
      "outputs": []
    }
  ]
}