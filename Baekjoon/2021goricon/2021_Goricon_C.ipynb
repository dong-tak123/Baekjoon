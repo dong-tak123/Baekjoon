{
  "nbformat": 4,
  "nbformat_minor": 0,
  "metadata": {
    "colab": {
      "name": "2021_Goricon_C",
      "provenance": []
    },
    "kernelspec": {
      "name": "python3",
      "display_name": "Python 3"
    },
    "language_info": {
      "name": "python"
    }
  },
  "cells": [
    {
      "cell_type": "markdown",
      "source": [
        "#백준 23629"
      ],
      "metadata": {
        "id": "AvWNueHeMXpm"
      }
    },
    {
      "cell_type": "markdown",
      "source": [
        "문자열 입력\n",
        "- =로 끝나고 연산자로 시작하지 않음\n",
        "- 영어로 숫자가 입력됨..\n",
        "- 계산 가능하면 계산, 불가능하면 Madness! 출력\n",
        "- 소수값은 0에 가까운 정수로 바꾼다"
      ],
      "metadata": {
        "id": "hCw8rAyWMZvI"
      }
    },
    {
      "cell_type": "markdown",
      "source": [
        "방법\n",
        "- 딕셔너리를 사용해서 일단 다 숫자로 바꾼다\n",
        "- 연산자가 연이어 나오면 불가.. 그 외에는 다 가능\n",
        "- 계산은 앞에서 부터.."
      ],
      "metadata": {
        "id": "MgdiVr0VNOgP"
      }
    },
    {
      "cell_type": "code",
      "execution_count": null,
      "metadata": {
        "colab": {
          "base_uri": "https://localhost:8080/"
        },
        "id": "iesTvEK5MVWU",
        "outputId": "88fc0006-0ead-45fc-99c6-b93d37047943"
      },
      "outputs": [
        {
          "output_type": "stream",
          "name": "stdout",
          "text": [
            "+=\n",
            "True\n"
          ]
        }
      ],
      "source": [
        "trans = {\"ONE\" : \"1\", \"TWO\":\"2\", \"THREE\":\"3\", \"FOUR\":\"4\", \"FIVE\":\"5\", \n",
        "         \"SIX\":\"6\", \"SEVEN\":\"7\", \"EIGHT\":\"8\", \"NINE\":\"9\", \"ZERO\":\"0\"}\n",
        "cal = [\"+\", \"-\", \"x\", \"/\", \"=\"]\n",
        "\n",
        "def make_integer(N):\n",
        "    if N > 0:\n",
        "        N //= 1\n",
        "    else:\n",
        "        N = ((N*(-1))//1)*(-1)\n",
        "    return N\n",
        "\n",
        "madness = False\n",
        "nums = []\n",
        "\n",
        "a = input()\n",
        "for i in trans.keys():\n",
        "    a = a.replace(i, trans[i])\n",
        "\n",
        "for i in range(len(a)-1):\n",
        "    if i == 0:\n",
        "        res += a[i]\n",
        "    else:\n",
        "        if a[i] in cal:\n",
        "            operator = a[i]\n",
        "            nums.append(int(res))\n",
        "        else:\n",
        "            res += a[i]\n",
        "\n",
        "    \n",
        "\n",
        "print(madness)"
      ]
    },
    {
      "cell_type": "code",
      "source": [
        "if a[i] in cal and a[i-1] in cal:\n",
        "            madness = True"
      ],
      "metadata": {
        "id": "VmK0Dp1rU5_d"
      },
      "execution_count": null,
      "outputs": []
    }
  ]
}