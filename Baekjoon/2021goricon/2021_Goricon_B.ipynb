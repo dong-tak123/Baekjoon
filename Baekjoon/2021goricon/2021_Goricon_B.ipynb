{
  "nbformat": 4,
  "nbformat_minor": 0,
  "metadata": {
    "colab": {
      "name": "2021_Goricon_B",
      "provenance": []
    },
    "kernelspec": {
      "name": "python3",
      "display_name": "Python 3"
    },
    "language_info": {
      "name": "python"
    }
  },
  "cells": [
    {
      "cell_type": "markdown",
      "source": [
        "#백준 23628\n"
      ],
      "metadata": {
        "id": "TfPonCzK2kW1"
      }
    },
    {
      "cell_type": "markdown",
      "source": [
        "- 입사한 날은 0개월\n",
        "- N년 차는 입사한 날로부터 12*N 달이 지난 상태\n",
        "\n",
        "월차 계산법\n",
        "- 월차는 매달 입사일과 같은 날에 지급\n",
        "- 월차는 3년차 까지 1개월이 지날 때마다 하나씩 지급 (최대 36개)\n",
        "\n",
        "연차 계산법\n",
        "- 연차는 매해 입사일과 같은 날에 지급\n",
        "- 1년에 A + 15개 지급\n",
        "- A는 0으로 시작해 (2n+1)년 차 마다 1씩 커진다.\n",
        "    - ex) 3,4년 차에는 A = 1\n",
        "    - ex) 5,6년 차에는 A = 2"
      ],
      "metadata": {
        "id": "1zppoafq4NKZ"
      }
    },
    {
      "cell_type": "markdown",
      "source": [
        "입사일과 미래의 임의의 일자를 입력\n",
        "\n",
        "-> 연차/ 월차의 갯수 및 근무 기간을 출력"
      ],
      "metadata": {
        "id": "t_Z3H8Zh5f-3"
      }
    },
    {
      "cell_type": "markdown",
      "source": [
        "##구현\n",
        "\n",
        "- 일단 다닌 날짜를 확인.. (diff)\n",
        "- 월차 계산\n",
        "- 연차 계산"
      ],
      "metadata": {
        "id": "nL1Xj7REsaBQ"
      }
    },
    {
      "cell_type": "code",
      "execution_count": 9,
      "metadata": {
        "colab": {
          "base_uri": "https://localhost:8080/"
        },
        "id": "17rFV28e2iEF",
        "outputId": "1fa9b298-5a94-4b03-fe50-641eeafc1b73"
      },
      "outputs": [
        {
          "output_type": "stream",
          "name": "stdout",
          "text": [
            "1 1 1\n",
            "9999 12 30\n",
            "25134972 36\n",
            "3599639days\n"
          ]
        }
      ],
      "source": [
        "start_year, start_month, start_date = map(int, input().split())\n",
        "end_year, end_month, end_date = map(int, input().split())\n",
        "\n",
        "#일한 날짜 계산\n",
        "diff = (end_year - start_year)*360 + (end_month - start_month)*30 + (end_date - start_date)\n",
        "\n",
        "#월차 계산\n",
        "if diff > 360:\n",
        "    monthly = 36\n",
        "else:\n",
        "    monthly = diff//30\n",
        "\n",
        "#연차 계산\n",
        "worked_year = diff // 360\n",
        "yearly = worked_year * 15       # 15 먼저 더하기\n",
        "\n",
        "if worked_year % 2 == 0 and worked_year != 0:\n",
        "    n = worked_year // 2 - 1\n",
        "    yearly += n*(n+1)\n",
        "elif worked_year %2 == 1:\n",
        "    n = (worked_year-1) // 2\n",
        "    yearly += (n-1)*n + n\n",
        "\n",
        "print(yearly, monthly)\n",
        "print(f\"{diff}days\")"
      ]
    }
  ]
}