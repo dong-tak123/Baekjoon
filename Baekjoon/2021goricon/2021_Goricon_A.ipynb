{
  "nbformat": 4,
  "nbformat_minor": 0,
  "metadata": {
    "colab": {
      "name": "2021_Goricon_A",
      "provenance": []
    },
    "kernelspec": {
      "name": "python3",
      "display_name": "Python 3"
    },
    "language_info": {
      "name": "python"
    }
  },
  "cells": [
    {
      "cell_type": "markdown",
      "source": [
        "#백준 23627"
      ],
      "metadata": {
        "id": "b5DgAqhW0cZm"
      }
    },
    {
      "cell_type": "markdown",
      "source": [
        "- \"driip\"으로 끝나는 문자열을 귀엽다고 생각\n",
        "- 문자열이 귀여우면 \"cute\", 아니면 \"not cute\""
      ],
      "metadata": {
        "id": "nJWUxZqR0fyE"
      }
    },
    {
      "cell_type": "code",
      "execution_count": 4,
      "metadata": {
        "colab": {
          "base_uri": "https://localhost:8080/"
        },
        "id": "FsjMp3010VTQ",
        "outputId": "31d1e74b-0a2d-4df4-f0f4-cbef64a5409c"
      },
      "outputs": [
        {
          "output_type": "stream",
          "name": "stdout",
          "text": [
            "h\n",
            "not cute\n"
          ]
        }
      ],
      "source": [
        "a = input()\n",
        "\n",
        "if len(a) < 5:\n",
        "    print(\"not cute\")\n",
        "else:\n",
        "    if a[-5:] == \"driip\":\n",
        "        print(\"cute\")\n",
        "    else:\n",
        "        print(\"not cute\")    "
      ]
    }
  ]
}