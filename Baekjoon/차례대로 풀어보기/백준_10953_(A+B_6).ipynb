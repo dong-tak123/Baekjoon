{
  "nbformat": 4,
  "nbformat_minor": 0,
  "metadata": {
    "colab": {
      "name": "백준 10953 (A+B - 6)",
      "provenance": []
    },
    "kernelspec": {
      "name": "python3",
      "display_name": "Python 3"
    },
    "language_info": {
      "name": "python"
    }
  },
  "cells": [
    {
      "cell_type": "code",
      "execution_count": 2,
      "metadata": {
        "colab": {
          "base_uri": "https://localhost:8080/"
        },
        "id": "Cx6jAtOYwCH-",
        "outputId": "0836a9e8-5ffe-4805-a7d1-54978cf9374f"
      },
      "outputs": [
        {
          "output_type": "stream",
          "name": "stdout",
          "text": [
            "5\n",
            "1,1\n",
            "2\n",
            "2,3\n",
            "5\n",
            "3,4\n",
            "7\n",
            "9,8\n",
            "17\n",
            "5,2\n",
            "7\n"
          ]
        }
      ],
      "source": [
        "T = int(input())\n",
        "for _ in range(T):\n",
        "    a, b = map(int, input().split(\",\"))\n",
        "    print(a+b)"
      ]
    },
    {
      "cell_type": "code",
      "source": [
        ""
      ],
      "metadata": {
        "id": "xZX5jqoGwVG1"
      },
      "execution_count": null,
      "outputs": []
    }
  ]
}