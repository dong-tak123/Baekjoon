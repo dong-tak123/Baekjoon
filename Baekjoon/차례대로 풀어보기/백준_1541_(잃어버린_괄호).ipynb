{
  "nbformat": 4,
  "nbformat_minor": 0,
  "metadata": {
    "colab": {
      "name": "백준 1541 (잃어버린 괄호)",
      "provenance": []
    },
    "kernelspec": {
      "name": "python3",
      "display_name": "Python 3"
    },
    "language_info": {
      "name": "python"
    }
  },
  "cells": [
    {
      "cell_type": "markdown",
      "source": [
        "괄호를 적절히 쳐서 식의 값을 최소로 만들어라.."
      ],
      "metadata": {
        "id": "oMlkFdXxxhYv"
      }
    },
    {
      "cell_type": "markdown",
      "source": [
        "#풀이\n",
        "\n",
        "- '-'를 기준으로 분할해서 사이에 괄호 쳐주면 댐..\n",
        "\n",
        "- 주의 사항\n",
        "    - '-'가 없는 경우\n",
        "    - 제일 앞에 정수 하나가 아니라 문자열이 들어가는 경우"
      ],
      "metadata": {
        "id": "G3Drykt1zp30"
      }
    },
    {
      "cell_type": "code",
      "execution_count": 14,
      "metadata": {
        "colab": {
          "base_uri": "https://localhost:8080/"
        },
        "id": "UlmTIQ7Uxc-B",
        "outputId": "51de1e65-7be0-410f-c83f-0d361f196801"
      },
      "outputs": [
        {
          "output_type": "stream",
          "name": "stdout",
          "text": [
            "10+20+30-40\n",
            "20\n"
          ]
        }
      ],
      "source": [
        "a = list(map(str, input().split('-')))\n",
        "\n",
        "res = 0\n",
        "if len(a) == 1: #마이너스가 아예 없는 경우..\n",
        "    res += sum(list(map(int, a[0].split('+'))))\n",
        "else:\n",
        "    for i in range(len(a)):\n",
        "        if i == 0:  #첨에는 그냥 더하고..\n",
        "            res += sum(list(map(int, a[i].split('+'))))\n",
        "        else:      #나중에는 +로 분할해서 다 더해서 빼주면 됨.\n",
        "            b = list(map(int, a[i].split('+')))\n",
        "            res -= sum(b)\n",
        "\n",
        "print(res)"
      ]
    }
  ]
}