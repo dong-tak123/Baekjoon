{
  "nbformat": 4,
  "nbformat_minor": 0,
  "metadata": {
    "colab": {
      "name": "백준 1012번(유기농 배추)",
      "provenance": []
    },
    "kernelspec": {
      "name": "python3",
      "display_name": "Python 3"
    },
    "language_info": {
      "name": "python"
    }
  },
  "cells": [
    {
      "cell_type": "markdown",
      "source": [
        "sys.setrecursionlimit(10000)으로 RecursionError 방지.."
      ],
      "metadata": {
        "id": "gSLfXJiACrM6"
      }
    },
    {
      "cell_type": "code",
      "metadata": {
        "colab": {
          "base_uri": "https://localhost:8080/"
        },
        "id": "aQ_WkZlPy1hl",
        "outputId": "c5a1ea9f-5ec0-4390-fd65-c42dfc67373c"
      },
      "source": [
        "def dfs(x, y):\n",
        "    #범위 벗어나면 안됨..\n",
        "    if x <= -1 or x >= m or y <= -1 or y >= n:\n",
        "        return False\n",
        "        \n",
        "    #1이면 배추가 있는거고\n",
        "    if graph[x][y] == 1:\n",
        "        graph[x][y] = 0\n",
        "        dfs(x-1, y)     #상\n",
        "        dfs(x, y-1)     #좌\n",
        "        dfs(x+1, y)     #하\n",
        "        dfs(x, y+1)     #우\n",
        "        return True\n",
        "    return False\n",
        "\n",
        "\n",
        "T = int(input())\n",
        "\n",
        "for t in range(T):\n",
        "    #가로 m, 세로 n\n",
        "    m, n, k = map(int, input().split())\n",
        "\n",
        "    graph = [[0] * n for _ in range(m)]         #다 0으로 초기화\n",
        "    for _ in range(k):\n",
        "        b_x, b_y = map(int, input().split())\n",
        "        graph[b_x][b_y] = 1\n",
        "\n",
        "    cnt = 0\n",
        "    for i in range(m):\n",
        "        for j in range(n):\n",
        "            #print(graph)\n",
        "            if dfs(i, j) == 1:\n",
        "                cnt += 1\n",
        "    print(cnt)"
      ],
      "execution_count": 11,
      "outputs": [
        {
          "output_type": "stream",
          "name": "stdout",
          "text": [
            "10 10 1\n",
            "5 5\n",
            "1\n"
          ]
        }
      ]
    },
    {
      "cell_type": "code",
      "source": [
        "def dfs(x, y):\n",
        "    #범위 벗어나면 안됨..\n",
        "    dx = [1, -1, 0, 0]\n",
        "    dy = [0, 0, 1, -1]\n",
        "    \n",
        "    #하, 상, 우, 좌 순으로 확인..\n",
        "    for p in range(4):\n",
        "        nx = x + dx[p]\n",
        "        ny = y + dy[p]\n",
        "\n",
        "        #범위 내에 있는 배추면 0으로 바꾸고 dfs 계속..\n",
        "        if (0 <= nx < m) and (0 <= ny < n):\n",
        "            if graph[nx][ny] == 1:\n",
        "                graph[nx][ny] = 0\n",
        "                dfs(nx, ny)\n",
        "\n",
        "T = int(input())\n",
        "\n",
        "for t in range(T):\n",
        "    #가로 m, 세로 n\n",
        "    m, n, k = map(int, input().split())\n",
        "\n",
        "    graph = [[0] * n for _ in range(m)]         #다 0으로 초기화 m * n 행렬\n",
        "    for _ in range(k):\n",
        "        b_x, b_y = map(int, input().split())\n",
        "        graph[b_x][b_y] = 1\n",
        "\n",
        "    cnt = 0\n",
        "    for i in range(m):\n",
        "        for j in range(n):\n",
        "            #print(graph)\n",
        "            if graph[i][j] == 1:\n",
        "                dfs(i, j)\n",
        "                cnt += 1\n",
        "    print(cnt)"
      ],
      "metadata": {
        "colab": {
          "base_uri": "https://localhost:8080/"
        },
        "id": "vtDBaiiW5yHL",
        "outputId": "382e74ba-c9e8-4da2-f309-eaee3d49b51c"
      },
      "execution_count": 24,
      "outputs": [
        {
          "output_type": "stream",
          "name": "stdout",
          "text": [
            "1\n",
            "5 3 6\n",
            "0 2\n",
            "1 2\n",
            "2 2\n",
            "3 2\n",
            "4 2\n",
            "4 0\n",
            "2\n"
          ]
        }
      ]
    }
  ]
}