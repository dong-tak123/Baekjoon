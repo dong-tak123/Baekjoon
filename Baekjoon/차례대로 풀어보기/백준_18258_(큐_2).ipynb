{
  "nbformat": 4,
  "nbformat_minor": 0,
  "metadata": {
    "colab": {
      "name": "백준 18258 (큐 2)",
      "provenance": []
    },
    "kernelspec": {
      "name": "python3",
      "display_name": "Python 3"
    },
    "language_info": {
      "name": "python"
    }
  },
  "cells": [
    {
      "cell_type": "code",
      "source": [
        "from collections import deque\n",
        "\n",
        "a = deque()\n",
        "\n",
        "N = int(input())\n",
        "for _ in range(N):\n",
        "    command = input().split()\n",
        "    if command[0] == \"push\":\n",
        "        a.append(command[1])\n",
        "    elif command[0] == \"pop\":\n",
        "        if len(a):\n",
        "            print(a.popleft())\n",
        "        else:\n",
        "            print(-1)\n",
        "    elif command[0] == \"size\":\n",
        "        print(len(a))\n",
        "    elif command[0] == \"empty\":\n",
        "        if len(a):\n",
        "            print(0)\n",
        "        else:\n",
        "            print(1)\n",
        "    elif command[0] == \"front\":\n",
        "        if len(a):\n",
        "            print(a[0])\n",
        "        else:\n",
        "            print(-1)\n",
        "    elif command[0] == \"back\":\n",
        "        if len(a):\n",
        "            print(a[-1])\n",
        "        else:\n",
        "            print(-1)"
      ],
      "metadata": {
        "colab": {
          "base_uri": "https://localhost:8080/"
        },
        "id": "zcpp_7IxbJ4L",
        "outputId": "8bd8c8e4-91ea-40f0-880a-dd824ed0de94"
      },
      "execution_count": 3,
      "outputs": [
        {
          "output_type": "stream",
          "name": "stdout",
          "text": [
            "15\n",
            "push 1\n",
            "push 2\n",
            "front\n",
            "1\n",
            "back\n",
            "2\n",
            "size\n",
            "2\n",
            "empty\n",
            "0\n",
            "pop\n",
            "1\n",
            "pop\n",
            "2\n",
            "pop\n",
            "-1\n",
            "size\n",
            "0\n",
            "empty\n",
            "1\n",
            "pop\n",
            "-1\n",
            "push 3\n",
            "empty\n",
            "0\n",
            "front\n",
            "3\n"
          ]
        }
      ]
    },
    {
      "cell_type": "code",
      "source": [
        ""
      ],
      "metadata": {
        "id": "qMHJ0WKPb-Rd"
      },
      "execution_count": null,
      "outputs": []
    }
  ]
}