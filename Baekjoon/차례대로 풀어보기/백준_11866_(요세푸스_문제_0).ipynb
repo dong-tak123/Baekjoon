{
  "nbformat": 4,
  "nbformat_minor": 0,
  "metadata": {
    "colab": {
      "name": "백준 11866 (요세푸스 문제 0)",
      "provenance": []
    },
    "kernelspec": {
      "name": "python3",
      "display_name": "Python 3"
    },
    "language_info": {
      "name": "python"
    }
  },
  "cells": [
    {
      "cell_type": "code",
      "execution_count": 3,
      "metadata": {
        "colab": {
          "base_uri": "https://localhost:8080/"
        },
        "id": "D3M_3lmRbdV5",
        "outputId": "c69ab5e1-9f1c-4fc8-a7e7-ef3b130e55ca"
      },
      "outputs": [
        {
          "output_type": "stream",
          "name": "stdout",
          "text": [
            "7 3\n",
            "<3, 6, 2, 7, 5, 1, 4>\n"
          ]
        }
      ],
      "source": [
        "from collections import deque\n",
        "\n",
        "N, K = map(int, input().split())\n",
        "\n",
        "a = list(range(1, N+1))\n",
        "b = deque()\n",
        "i = 0\n",
        "\n",
        "while (a):\n",
        "    i += K-1\n",
        "    i %= N\n",
        "    b.append(a[i])\n",
        "    del a[i]\n",
        "    N -= 1\n",
        "print('<' + str(b).strip(\"deque([\").strip(\"])\") + '>')"
      ]
    },
    {
      "cell_type": "code",
      "source": [
        "# 1158번..\n",
        "\n",
        "N, K = map(int, input().split())\n",
        "a = list(range(1, N+1))\n",
        "start = 0\n",
        "b = []\n",
        "while (a):\n",
        "    start += K-1\n",
        "    start %= N\n",
        "    b.append(a[start])\n",
        "    del a[start]\n",
        "    N -= 1\n",
        "print('<' + str(b).strip(\"]\").strip(\"[\") + '>')"
      ],
      "metadata": {
        "colab": {
          "base_uri": "https://localhost:8080/"
        },
        "id": "Ysx6CCO4iMiA",
        "outputId": "09f099fa-62f2-40e4-a1a1-4975a975cc90"
      },
      "execution_count": 4,
      "outputs": [
        {
          "output_type": "stream",
          "name": "stdout",
          "text": [
            "7 3\n",
            "<3, 6, 2, 7, 5, 1, 4>\n"
          ]
        }
      ]
    }
  ]
}