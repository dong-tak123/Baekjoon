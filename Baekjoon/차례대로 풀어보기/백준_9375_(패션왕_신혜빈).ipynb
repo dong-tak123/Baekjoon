{
  "nbformat": 4,
  "nbformat_minor": 0,
  "metadata": {
    "colab": {
      "name": "백준 9375 (패션왕 신혜빈)",
      "provenance": []
    },
    "kernelspec": {
      "name": "python3",
      "display_name": "Python 3"
    },
    "language_info": {
      "name": "python"
    }
  },
  "cells": [
    {
      "cell_type": "code",
      "execution_count": 6,
      "metadata": {
        "colab": {
          "base_uri": "https://localhost:8080/"
        },
        "id": "5Xf8XTf-6F2g",
        "outputId": "c9070477-69e0-4389-f83b-7f58b5f89cb2"
      },
      "outputs": [
        {
          "output_type": "stream",
          "name": "stdout",
          "text": [
            "1\n",
            "3\n",
            "mask face\n",
            "sunglasses face\n",
            "makeup face\n",
            "3\n"
          ]
        }
      ],
      "source": [
        "T = int(input())\n",
        "for _ in range(T):\n",
        "    clothes = dict()\n",
        "    N = int(input())\n",
        "    for i in range(N):\n",
        "        name, kind = map(str, input().split())\n",
        "        if kind in clothes:\n",
        "            clothes[kind].append(name)\n",
        "        else:\n",
        "            clothes[kind] = [name]\n",
        "    #print(clothes)\n",
        "    if len(clothes) == 1:\n",
        "        for key, value in clothes.items():\n",
        "            print(len(value))\n",
        "    else:\n",
        "        a = 1\n",
        "        for key, value in clothes.items():\n",
        "            a *= (len(value) + 1)\n",
        "        print(a-1)"
      ]
    }
  ]
}