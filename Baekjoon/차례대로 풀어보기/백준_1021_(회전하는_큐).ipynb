{
  "nbformat": 4,
  "nbformat_minor": 0,
  "metadata": {
    "colab": {
      "name": "백준 1021 (회전하는 큐)",
      "provenance": []
    },
    "kernelspec": {
      "name": "python3",
      "display_name": "Python 3"
    },
    "language_info": {
      "name": "python"
    }
  },
  "cells": [
    {
      "cell_type": "markdown",
      "source": [
        "연산종류..\n",
        "\n",
        "1. 첫 번째 원소 뽑기\n",
        "2. 왼쪽으로 한칸 이동\n",
        "3. 오른쪽으로 한칸 이동\n",
        "\n",
        "-> 주어진 순서대로 원소를 뽑아내는데 드는 2,3번 연산의 최솟값을 출력해라"
      ],
      "metadata": {
        "id": "63dmFek1jHVc"
      }
    },
    {
      "cell_type": "code",
      "execution_count": 8,
      "metadata": {
        "colab": {
          "base_uri": "https://localhost:8080/"
        },
        "id": "eTqv9JaXjCV3",
        "outputId": "cd52f0ff-f3b3-4c38-8fba-70227325737a"
      },
      "outputs": [
        {
          "output_type": "stream",
          "name": "stdout",
          "text": [
            "10 3\n",
            "1 2 3\n",
            "2\n"
          ]
        }
      ],
      "source": [
        "from collections import deque\n",
        "\n",
        "N, M = map(int, input().split())\n",
        "a = deque(range(1, N+1))\n",
        "\n",
        "nums = list(map(int, input().split()))\n",
        "op_cnt = 0\n",
        "\n",
        "for i in range(M):\n",
        "    if i == 0:\n",
        "        op_cnt += min(abs(1-nums[i]), abs(1-(N+nums[i])))\n",
        "    else:\n",
        "        op_cnt += min(abs(nums[i-1] - nums[i]), abs(nums[i-1] - (nums[i] + N)))\n",
        "\n",
        "print(op_cnt)"
      ]
    },
    {
      "cell_type": "code",
      "source": [
        "from collections import deque\n",
        "\n",
        "N, M = map(int, input().split())\n",
        "a = deque(range(1, N+1))\n",
        "nums = list(map(int, input().split()))\n",
        "op_cnt = 0\n",
        "\n",
        "for i in range(M):\n",
        "    if i == 0:\n",
        "        if abs(a[i] - nums[i]) > len(a)/2:     #오른쪽\n",
        "            for _ in range(abs(a[i] - nums[i])):\n",
        "                temp = a.pop()\n",
        "                a.appendleft(temp)\n",
        "        else:       #왼쪽\n",
        "            for _ in range(abs(a[i] - nums[i])):\n",
        "                temp = a.popleft()\n",
        "                a.append(temp)\n",
        "        op_cnt += abs(a[i] - nums[i])\n",
        "    else:\n",
        "        if abs(nums[i-1] - nums[i]) > len(a)/2:\n",
        "            for _ in range(abs(nums[i-1] - nums[i])):\n",
        "                temp = a.pop()\n",
        "                a.appendleft(temp)\n",
        "        else:\n",
        "            for _ in range(abs(nums[i-1] - nums[i])):\n",
        "                temp = a.popleft()\n",
        "                a.append(temp)\n",
        "        op_cnt += abs(nums[i-1] - nums[i])\n",
        "    a.popleft()\n",
        "    print(op_cnt)\n",
        "    print(a)\n",
        "\n",
        "print(op_cnt)"
      ],
      "metadata": {
        "colab": {
          "base_uri": "https://localhost:8080/"
        },
        "id": "bdlILiCRl1Na",
        "outputId": "7864be1d-d4cd-435d-9180-98b0a0144d8a"
      },
      "execution_count": 39,
      "outputs": [
        {
          "output_type": "stream",
          "name": "stdout",
          "text": [
            "10 3\n",
            "1 2 3\n",
            "0\n",
            "deque([2, 3, 4, 5, 6, 7, 8, 9, 10])\n",
            "1\n",
            "deque([4, 5, 6, 7, 8, 9, 10, 2])\n",
            "2\n",
            "deque([6, 7, 8, 9, 10, 2, 4])\n",
            "2\n"
          ]
        }
      ]
    },
    {
      "cell_type": "markdown",
      "source": [
        "#Rotate(n)\n",
        "\n",
        "- n 만큼 회전한다.."
      ],
      "metadata": {
        "id": "GSm8YEOU1C8u"
      }
    },
    {
      "cell_type": "code",
      "source": [
        "from collections import deque\n",
        " \n",
        "N, M = map(int, input().split())\n",
        "targets = list(map(int, input().split()))\n",
        "op_cnt = 0\n",
        "nums = deque(range(1, N+1))\n",
        " \n",
        "for target in targets:\n",
        "    while True:\n",
        "        if nums[0] == target:\n",
        "            nums.popleft()\n",
        "            break\n",
        "        else:\n",
        "            if nums.index(target) <= len(nums) // 2:\n",
        "                nums.rotate(-1)     #왼쪽..\n",
        "            else:\n",
        "                nums.rotate(1)\n",
        "            op_cnt += 1\n",
        "print(op_cnt)"
      ],
      "metadata": {
        "colab": {
          "base_uri": "https://localhost:8080/"
        },
        "id": "Yf_5QBbJti4e",
        "outputId": "d6f69528-3ab7-44a1-d3b1-14948645dd2e"
      },
      "execution_count": 54,
      "outputs": [
        {
          "output_type": "stream",
          "name": "stdout",
          "text": [
            "10 10\n",
            "1 6 3 2 7 9 8 4 10 5\n",
            "14\n"
          ]
        }
      ]
    },
    {
      "cell_type": "code",
      "source": [
        ""
      ],
      "metadata": {
        "id": "Z6AI1wtv07sA"
      },
      "execution_count": null,
      "outputs": []
    }
  ]
}