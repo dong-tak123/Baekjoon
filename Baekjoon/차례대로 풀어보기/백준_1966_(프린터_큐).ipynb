{
  "nbformat": 4,
  "nbformat_minor": 0,
  "metadata": {
    "colab": {
      "name": "백준 1966 (프린터 큐)",
      "provenance": []
    },
    "kernelspec": {
      "name": "python3",
      "display_name": "Python 3"
    },
    "language_info": {
      "name": "python"
    }
  },
  "cells": [
    {
      "cell_type": "markdown",
      "source": [
        "1. 현재 Queue의 가장 앞에 있는 문서의 ‘중요도’를 확인한다.\n",
        "2. 나머지 문서들 중 현재 문서보다 중요도가 높은 문서가 하나라도 있다면, 이 문서를 인쇄하지 않고 Queue의 가장 뒤에 재배치 한다. 그렇지 않다면 바로 인쇄를 한다."
      ],
      "metadata": {
        "id": "91RiqdydeAdr"
      }
    },
    {
      "cell_type": "code",
      "execution_count": 6,
      "metadata": {
        "colab": {
          "base_uri": "https://localhost:8080/"
        },
        "id": "5AKzVabNcJsz",
        "outputId": "1e605be8-641e-4a51-de9c-c3c383207093"
      },
      "outputs": [
        {
          "output_type": "stream",
          "name": "stdout",
          "text": [
            "3\n",
            "1 0\n",
            "5\n",
            "1\n",
            "4 2\n",
            "1 2 3 4\n",
            "2\n",
            "6 0\n",
            "1 1 9 1 1 1\n",
            "5\n"
          ]
        }
      ],
      "source": [
        "from collections import deque\n",
        "\n",
        "T = int(input())\n",
        "for _ in range(T):\n",
        "    N, index = map(int, input().split())\n",
        "    a = list(map(int, input().split()))\n",
        "    D = deque(a)\n",
        "    cnt = 0         #출력 번째 수를 알려줌\n",
        "    while True:\n",
        "        if D[0] == max(D) and index == 0:       #목표가 제일 앞에 있고 젤 클 때\n",
        "            cnt = cnt + 1\n",
        "            print(cnt)\n",
        "            break\n",
        "        elif D[0] == max(D):        #제일 앞에 있는 게 젤 클 때\n",
        "            D.popleft()\n",
        "            index = (index - 1) % len(D)\n",
        "            cnt = cnt + 1\n",
        "        else:       #뒤로 넘겨야할 때..\n",
        "            n = D.popleft()\n",
        "            D.append(n)\n",
        "            index = (index - 1) % len(D)\n",
        "            #print(D)"
      ]
    }
  ]
}