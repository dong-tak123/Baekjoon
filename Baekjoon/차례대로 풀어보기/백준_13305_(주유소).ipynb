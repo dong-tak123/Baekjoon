{
  "nbformat": 4,
  "nbformat_minor": 0,
  "metadata": {
    "colab": {
      "name": "백준 13305 (주유소)",
      "provenance": []
    },
    "kernelspec": {
      "name": "python3",
      "display_name": "Python 3"
    },
    "language_info": {
      "name": "python"
    }
  },
  "cells": [
    {
      "cell_type": "markdown",
      "source": [
        "- N : 도시 갯수\n",
        "\n",
        "- N-1개의 숫자 : 각 도시 사이의 거리\n",
        "\n",
        "- N개의 숫자 : 각 도시에서의 기름 값\n",
        "\n",
        "최소 비용으로 제일 오른쪽 도시까지 가도록 해라"
      ],
      "metadata": {
        "id": "8bDlT8E6vRID"
      }
    },
    {
      "cell_type": "markdown",
      "source": [
        "#풀이 (미리 넣어놓을 필요 없다)\n",
        "\n",
        "- 일단 첫 번째는 가야하고\n",
        "- 두 번째부터는 최소가격을 update하면서 간다\n",
        "    - 다음 도시에서 더 싸면 사고 아니면 이전에서 더 샀다고 생각한다..\n"
      ],
      "metadata": {
        "id": "cLWnGK1L5Ok1"
      }
    },
    {
      "cell_type": "code",
      "execution_count": 5,
      "metadata": {
        "colab": {
          "base_uri": "https://localhost:8080/"
        },
        "id": "GzEw8z9AvNWq",
        "outputId": "0a9d2307-c94b-4069-beeb-9251875ce4c4"
      },
      "outputs": [
        {
          "output_type": "stream",
          "name": "stdout",
          "text": [
            "4\n",
            "2 3 1\n",
            "5 2 4 1\n",
            "18\n"
          ]
        }
      ],
      "source": [
        "N = int(input())\n",
        "dis = list(map(int, input().split()))\n",
        "price = list(map(int, input().split()))\n",
        "\n",
        "p = 0\n",
        "for i in range(N-1):\n",
        "    if i == 0:      #첫 도시에는 일단 넣는다\n",
        "        p += dis[i]*price[i]\n",
        "        min_price = price[i]\n",
        "    else:           #다음에는\n",
        "        if price[i] < min_price:        #최저 기름값이 갱신되면 넣고\n",
        "            min_price = price[i]\n",
        "            p += dis[i]*min_price\n",
        "        else:\n",
        "            p += dis[i]*min_price       #아니면 이전의 값으로 넣는다\n",
        "\n",
        "print(p)"
      ]
    },
    {
      "cell_type": "code",
      "source": [
        ""
      ],
      "metadata": {
        "id": "PPW3w_jUxT6l"
      },
      "execution_count": null,
      "outputs": []
    }
  ]
}