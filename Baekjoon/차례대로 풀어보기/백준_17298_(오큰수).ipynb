{
  "nbformat": 4,
  "nbformat_minor": 0,
  "metadata": {
    "colab": {
      "name": "백준 17298 (오큰수)",
      "provenance": []
    },
    "kernelspec": {
      "name": "python3",
      "display_name": "Python 3"
    },
    "language_info": {
      "name": "python"
    }
  },
  "cells": [
    {
      "cell_type": "markdown",
      "source": [
        "오큰수 NGE(i) : 오른쪽에 있으면서 $A_i$보다 큰 수 중에서 가장 왼쪽에 있는 수\n",
        "\n",
        "- 없는 경우는 -1"
      ],
      "metadata": {
        "id": "17a0XISssPBz"
      }
    },
    {
      "cell_type": "markdown",
      "source": [
        "#넘파이를 못 쓰네.."
      ],
      "metadata": {
        "id": "5fCp7rb1wfar"
      }
    },
    {
      "cell_type": "code",
      "execution_count": 7,
      "metadata": {
        "colab": {
          "base_uri": "https://localhost:8080/"
        },
        "id": "NfhzFPKzsK1-",
        "outputId": "8d708893-c104-447c-9f74-36d913b697ea"
      },
      "outputs": [
        {
          "output_type": "stream",
          "name": "stdout",
          "text": [
            "4\n",
            "9 5 4 8\n",
            "-1 8 8 -1 "
          ]
        }
      ],
      "source": [
        "import numpy as np\n",
        "\n",
        "N = int(input())\n",
        "nums = list(map(int, input().split()))\n",
        "\n",
        "NGE = []    #오큰수 모음\n",
        "\n",
        "for i in range(N):\n",
        "    candidates = np.array(nums[i+1:])\n",
        "    flag = candidates > nums[i]\n",
        "    FLAG = True\n",
        "    for j in range(len(flag)):\n",
        "        if flag[j]:\n",
        "            NGE.append(candidates[j])\n",
        "            FLAG = False\n",
        "            break\n",
        "    if FLAG:\n",
        "        NGE.append(-1)\n",
        "\n",
        "for k in NGE:\n",
        "    print(k, end=\" \")"
      ]
    },
    {
      "cell_type": "markdown",
      "source": [
        "#시간초과.."
      ],
      "metadata": {
        "id": "Q1Cjf7eDyOAi"
      }
    },
    {
      "cell_type": "code",
      "source": [
        "N = int(input())\n",
        "nums = list(map(int, input().split()))\n",
        "\n",
        "NGE = []    #오큰수 모음\n",
        "\n",
        "for i in range(N):\n",
        "    candidates = nums[i+1:]\n",
        "    flag = True\n",
        "    for j in candidates:\n",
        "        if j > nums[i]:\n",
        "            NGE.append(j)\n",
        "            flag = False\n",
        "            break\n",
        "    if flag:\n",
        "        NGE.append(-1)\n",
        "\n",
        "for k in NGE:\n",
        "    print(k, end=\" \")"
      ],
      "metadata": {
        "colab": {
          "base_uri": "https://localhost:8080/"
        },
        "id": "nR_rjTkZuybE",
        "outputId": "baf124c7-f3c1-4e96-b21d-26a7d595626c"
      },
      "execution_count": 10,
      "outputs": [
        {
          "output_type": "stream",
          "name": "stdout",
          "text": [
            "4\n",
            "9 5 4 8\n",
            "-1 8 8 -1 "
          ]
        }
      ]
    },
    {
      "cell_type": "markdown",
      "source": [
        "#idea\n",
        "\n",
        "- 오른쪽의 작은수가 있다면 오큰수를 한번에 구할 수 있다"
      ],
      "metadata": {
        "id": "P0moipMp0gOa"
      }
    },
    {
      "cell_type": "code",
      "source": [
        "#스택에는 수열의 값과 인덱스를 함께 넣는다\n",
        "\n",
        "from collections import deque\n",
        "N = int(input())\n",
        "nums = list(map(int, input().split()))\n",
        "\n",
        "NGE = [-1] * N    #오큰수 모음\n",
        "stack = deque()         #값이랑 인덱스를 같이 넣음\n",
        "\n",
        "for i in range(N):\n",
        "    while stack and (stack[-1][0] < nums[i]):\n",
        "        tmp, idx = stack.pop()\n",
        "        NGE[idx] = nums[i]\n",
        "    stack.append([nums[i], i])\n",
        "\n",
        "print(*NGE)     #이거도 신기하네..\n",
        "#for k in NGE:\n",
        "#    print(k, end=\" \")"
      ],
      "metadata": {
        "colab": {
          "base_uri": "https://localhost:8080/"
        },
        "id": "EPtmYANtu2xo",
        "outputId": "a2b61f09-9f4d-43da-d6d4-a407df415000"
      },
      "execution_count": 11,
      "outputs": [
        {
          "output_type": "stream",
          "name": "stdout",
          "text": [
            "4\n",
            "3 5 2 7\n",
            "5 7 7 -1\n",
            "5 7 7 -1 "
          ]
        }
      ]
    },
    {
      "cell_type": "code",
      "source": [
        ""
      ],
      "metadata": {
        "id": "wFoeqMRx3Dtk"
      },
      "execution_count": null,
      "outputs": []
    }
  ]
}