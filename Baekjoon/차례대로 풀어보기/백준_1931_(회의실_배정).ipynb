{
  "nbformat": 4,
  "nbformat_minor": 0,
  "metadata": {
    "colab": {
      "name": "백준 1931 (회의실 배정)",
      "provenance": []
    },
    "kernelspec": {
      "name": "python3",
      "display_name": "Python 3"
    },
    "language_info": {
      "name": "python"
    }
  },
  "cells": [
    {
      "cell_type": "markdown",
      "source": [
        "- 회의 시작시간이랑 끝시간을 입력받음\n",
        "\n",
        "- 딕셔너리에 저장해서 정렬.. 시작시간 : 끝시간..\n",
        " \n",
        "- 끝나는 시간.. 기준 오름차순으로 정렬 (끝나는 시간 기준 그리디!)\n",
        "\n",
        "- 끝나고 바로 시작하면 된다.."
      ],
      "metadata": {
        "id": "GbrckB-mQzTL"
      }
    },
    {
      "cell_type": "code",
      "execution_count": 9,
      "metadata": {
        "colab": {
          "base_uri": "https://localhost:8080/"
        },
        "id": "7lwZepEmQK_6",
        "outputId": "1c077550-997f-43ed-c079-d80e573886ed"
      },
      "outputs": [
        {
          "output_type": "stream",
          "name": "stdout",
          "text": [
            "11\n",
            "1 4\n",
            "3 5\n",
            "0 6\n",
            "5 7\n",
            "3 8\n",
            "5 9\n",
            "6 10\n",
            "8 11\n",
            "8 12\n",
            "2 13\n",
            "12 14\n",
            "[[1, 4], [3, 5], [0, 6], [5, 7], [3, 8], [5, 9], [6, 10], [8, 11], [8, 12], [2, 13], [12, 14]]\n",
            "4\n"
          ]
        }
      ],
      "source": [
        "N = int(input())\n",
        "\n",
        "schedule = []\n",
        "#스케쥴 모두 저장\n",
        "for _ in range(N):\n",
        "    schedule.append(list(map(int, input().split())))\n",
        "\n",
        "#빨리 끝나는 순으로 정렬, 같다면 시작시간이 빠른 순으로 정렬..\n",
        "schedule = sorted(schedule, key = lambda x : (x[1], x[0]))\n",
        "print(schedule)\n",
        "\n",
        "cnt = 1\n",
        "final_time = schedule[0][1]\n",
        "for i in range(1, N):\n",
        "    if schedule[i][0] >= final_time:\n",
        "        cnt += 1\n",
        "        final_time = schedule[i][1]\n",
        "print(cnt)"
      ]
    }
  ]
}