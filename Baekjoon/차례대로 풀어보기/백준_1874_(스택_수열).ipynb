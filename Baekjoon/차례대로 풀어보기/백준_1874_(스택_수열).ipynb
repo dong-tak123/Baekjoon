{
  "nbformat": 4,
  "nbformat_minor": 0,
  "metadata": {
    "colab": {
      "name": "백준 1874 (스택 수열)",
      "provenance": []
    },
    "kernelspec": {
      "name": "python3",
      "display_name": "Python 3"
    },
    "language_info": {
      "name": "python"
    }
  },
  "cells": [
    {
      "cell_type": "markdown",
      "source": [
        "##풀이\n",
        "\n",
        "- 다음에 나와야 하는 숫자가 top에 있는 숫자와 같아야함"
      ],
      "metadata": {
        "id": "7st4FQAATtQ_"
      }
    },
    {
      "cell_type": "code",
      "execution_count": 5,
      "metadata": {
        "colab": {
          "base_uri": "https://localhost:8080/"
        },
        "id": "C9clUXJxP7lA",
        "outputId": "9bcd382d-d5f1-4980-aa3c-f26172c47167"
      },
      "outputs": [
        {
          "output_type": "stream",
          "name": "stdout",
          "text": [
            "8\n",
            "4\n",
            "3\n",
            "6\n",
            "8\n",
            "7\n",
            "5\n",
            "2\n",
            "1\n",
            "+\n",
            "+\n",
            "+\n",
            "+\n",
            "-\n",
            "-\n",
            "+\n",
            "+\n",
            "-\n",
            "+\n",
            "+\n",
            "-\n",
            "-\n",
            "-\n",
            "-\n",
            "-\n"
          ]
        }
      ],
      "source": [
        "N = int(input())\n",
        "possibility = True\n",
        "op = []\n",
        "stack = []\n",
        "cur = 1\n",
        "\n",
        "for i in range(N):\n",
        "    n = int(input())\n",
        "    while cur <= n:\n",
        "        stack.append(cur)\n",
        "        op.append('+')\n",
        "        cur += 1\n",
        "    if stack[-1] == n:\n",
        "        stack.pop()\n",
        "        op.append('-')\n",
        "    else:\n",
        "        print('NO')\n",
        "        possibility = False\n",
        "        break\n",
        "\n",
        "if possibility:\n",
        "    for o in op:\n",
        "        print(o)"
      ]
    }
  ]
}